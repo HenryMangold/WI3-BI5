{
 "cells": [
  {
   "cell_type": "code",
   "execution_count": 2,
   "metadata": {
    "ExecuteTime": {
     "end_time": "2021-11-26T12:54:32.718695Z",
     "start_time": "2021-11-26T12:54:31.259741Z"
    }
   },
   "outputs": [],
   "source": [
    "import numpy as np\n",
    "import pandas as pd\n",
    "import os"
   ]
  },
  {
   "cell_type": "markdown",
   "metadata": {},
   "source": [
    "<h1>Daten Einlesen</h1>"
   ]
  },
  {
   "cell_type": "code",
   "execution_count": 3,
   "metadata": {
    "ExecuteTime": {
     "end_time": "2021-11-26T12:55:03.772909Z",
     "start_time": "2021-11-26T12:54:34.432145Z"
    },
    "scrolled": false
   },
   "outputs": [
    {
     "name": "stdout",
     "output_type": "stream",
     "text": [
      "{'accelerometer_x': array([-7.2265625, -7.1679688, -7.1679688, ..., -7.084961 , -7.084961 ,\n",
      "       -7.1679688], dtype=float32), 'accelerometer_y': array([6.850586, 6.801758, 6.801758, ..., 6.821289, 6.821289, 6.928711],\n",
      "      dtype=float32), 'accelerometer_z': array([0.9082031 , 0.7861328 , 0.7861328 , ..., 0.8496094 , 0.8496094 ,\n",
      "       0.88378906], dtype=float32), 'magnetometer_x': array([-53937500., -53937500., -53937500., ..., -51750000., -51750000.,\n",
      "       -54312500.], dtype=float32), 'magnetometer_y': array([4062500., 4062500., 4062500., ..., 3750000., 3750000., 3750000.],\n",
      "      dtype=float32), 'magnetometer_z': array([-5937500., -5937500., -5937500., ..., -6000000., -6000000.,\n",
      "       -4812500.], dtype=float32), 'audio': array([0.00872803, 0.0083313 , 0.00796509, ..., 0.0163269 , 0.0163269 ,\n",
      "       0.01504517], dtype=float32), 'timer': array([       0,        1,        1, ..., 86277649, 86277650, 86277650],\n",
      "      dtype=int32)}\n"
     ]
    }
   ],
   "source": [
    "unpickled_df = pd.read_pickle(\"../Data/data_inside_20211012_000102.pkl\")\n",
    "\n",
    "print(unpickled_df)"
   ]
  },
  {
   "cell_type": "code",
   "execution_count": 3,
   "metadata": {
    "ExecuteTime": {
     "end_time": "2021-11-25T18:02:10.177021Z",
     "start_time": "2021-11-25T18:02:10.041951Z"
    }
   },
   "outputs": [
    {
     "name": "stdout",
     "output_type": "stream",
     "text": [
      "86277650\n"
     ]
    }
   ],
   "source": [
    "print(unpickled_df['timer'].max())"
   ]
  },
  {
   "cell_type": "markdown",
   "metadata": {},
   "source": [
    "<h1>Audio Step für Smoothing festlegen</h1>"
   ]
  },
  {
   "cell_type": "code",
   "execution_count": 4,
   "metadata": {
    "ExecuteTime": {
     "end_time": "2021-11-26T12:55:16.421136Z",
     "start_time": "2021-11-26T12:55:16.415708Z"
    }
   },
   "outputs": [
    {
     "name": "stdout",
     "output_type": "stream",
     "text": [
      "audio steps: 105\n"
     ]
    }
   ],
   "source": [
    "# to 20Hz\n",
    "# Calculation:   audio_step  =  2100d/s  /  20Hz  =  105s\n",
    "\n",
    "audio_step = int(2100 / 20) \n",
    "\n",
    "print('audio steps:', audio_step)"
   ]
  },
  {
   "cell_type": "markdown",
   "metadata": {},
   "source": [
    "<h1>Indizes für den Split der Sensor Dateien finden</h1>"
   ]
  },
  {
   "cell_type": "code",
   "execution_count": 5,
   "metadata": {
    "ExecuteTime": {
     "end_time": "2021-11-26T12:55:27.194100Z",
     "start_time": "2021-11-26T12:55:25.166567Z"
    }
   },
   "outputs": [
    {
     "name": "stdout",
     "output_type": "stream",
     "text": [
      "177331479  /  177331479  /  177331479\n"
     ]
    },
    {
     "data": {
      "text/html": [
       "<div>\n",
       "<style scoped>\n",
       "    .dataframe tbody tr th:only-of-type {\n",
       "        vertical-align: middle;\n",
       "    }\n",
       "\n",
       "    .dataframe tbody tr th {\n",
       "        vertical-align: top;\n",
       "    }\n",
       "\n",
       "    .dataframe thead th {\n",
       "        text-align: right;\n",
       "    }\n",
       "</style>\n",
       "<table border=\"1\" class=\"dataframe\">\n",
       "  <thead>\n",
       "    <tr style=\"text-align: right;\">\n",
       "      <th></th>\n",
       "      <th>accelerometer_x</th>\n",
       "      <th>accelerometer_y</th>\n",
       "      <th>accelerometer_z</th>\n",
       "      <th>magnetometer_x</th>\n",
       "      <th>magnetometer_y</th>\n",
       "      <th>magnetometer_z</th>\n",
       "      <th>count</th>\n",
       "    </tr>\n",
       "    <tr>\n",
       "      <th>timer</th>\n",
       "      <th></th>\n",
       "      <th></th>\n",
       "      <th></th>\n",
       "      <th></th>\n",
       "      <th></th>\n",
       "      <th></th>\n",
       "      <th></th>\n",
       "    </tr>\n",
       "  </thead>\n",
       "  <tbody>\n",
       "    <tr>\n",
       "      <th>0</th>\n",
       "      <td>-7.226562</td>\n",
       "      <td>6.850586</td>\n",
       "      <td>0.908203</td>\n",
       "      <td>-53937500.0</td>\n",
       "      <td>4062500.0</td>\n",
       "      <td>-5937500.0</td>\n",
       "      <td>0</td>\n",
       "    </tr>\n",
       "    <tr>\n",
       "      <th>1</th>\n",
       "      <td>-7.167969</td>\n",
       "      <td>6.801758</td>\n",
       "      <td>0.786133</td>\n",
       "      <td>-53937500.0</td>\n",
       "      <td>4062500.0</td>\n",
       "      <td>-5937500.0</td>\n",
       "      <td>1</td>\n",
       "    </tr>\n",
       "    <tr>\n",
       "      <th>1</th>\n",
       "      <td>-7.167969</td>\n",
       "      <td>6.801758</td>\n",
       "      <td>0.786133</td>\n",
       "      <td>-53937500.0</td>\n",
       "      <td>4062500.0</td>\n",
       "      <td>-5937500.0</td>\n",
       "      <td>2</td>\n",
       "    </tr>\n",
       "    <tr>\n",
       "      <th>2</th>\n",
       "      <td>-7.167969</td>\n",
       "      <td>6.801758</td>\n",
       "      <td>0.786133</td>\n",
       "      <td>-53937500.0</td>\n",
       "      <td>4062500.0</td>\n",
       "      <td>-5937500.0</td>\n",
       "      <td>3</td>\n",
       "    </tr>\n",
       "    <tr>\n",
       "      <th>2</th>\n",
       "      <td>-7.177734</td>\n",
       "      <td>6.752930</td>\n",
       "      <td>0.834961</td>\n",
       "      <td>-53937500.0</td>\n",
       "      <td>4062500.0</td>\n",
       "      <td>-5937500.0</td>\n",
       "      <td>4</td>\n",
       "    </tr>\n",
       "    <tr>\n",
       "      <th>...</th>\n",
       "      <td>...</td>\n",
       "      <td>...</td>\n",
       "      <td>...</td>\n",
       "      <td>...</td>\n",
       "      <td>...</td>\n",
       "      <td>...</td>\n",
       "      <td>...</td>\n",
       "    </tr>\n",
       "    <tr>\n",
       "      <th>86277647</th>\n",
       "      <td>-7.202148</td>\n",
       "      <td>7.001953</td>\n",
       "      <td>0.859375</td>\n",
       "      <td>-51750000.0</td>\n",
       "      <td>3750000.0</td>\n",
       "      <td>-6000000.0</td>\n",
       "      <td>177331474</td>\n",
       "    </tr>\n",
       "    <tr>\n",
       "      <th>86277648</th>\n",
       "      <td>-7.036133</td>\n",
       "      <td>6.767578</td>\n",
       "      <td>0.839844</td>\n",
       "      <td>-51750000.0</td>\n",
       "      <td>3750000.0</td>\n",
       "      <td>-6000000.0</td>\n",
       "      <td>177331475</td>\n",
       "    </tr>\n",
       "    <tr>\n",
       "      <th>86277649</th>\n",
       "      <td>-7.084961</td>\n",
       "      <td>6.821289</td>\n",
       "      <td>0.849609</td>\n",
       "      <td>-51750000.0</td>\n",
       "      <td>3750000.0</td>\n",
       "      <td>-6000000.0</td>\n",
       "      <td>177331476</td>\n",
       "    </tr>\n",
       "    <tr>\n",
       "      <th>86277650</th>\n",
       "      <td>-7.084961</td>\n",
       "      <td>6.821289</td>\n",
       "      <td>0.849609</td>\n",
       "      <td>-51750000.0</td>\n",
       "      <td>3750000.0</td>\n",
       "      <td>-6000000.0</td>\n",
       "      <td>177331477</td>\n",
       "    </tr>\n",
       "    <tr>\n",
       "      <th>86277650</th>\n",
       "      <td>-7.167969</td>\n",
       "      <td>6.928711</td>\n",
       "      <td>0.883789</td>\n",
       "      <td>-54312500.0</td>\n",
       "      <td>3750000.0</td>\n",
       "      <td>-4812500.0</td>\n",
       "      <td>177331478</td>\n",
       "    </tr>\n",
       "  </tbody>\n",
       "</table>\n",
       "<p>177331479 rows × 7 columns</p>\n",
       "</div>"
      ],
      "text/plain": [
       "          accelerometer_x  accelerometer_y  accelerometer_z  magnetometer_x  \\\n",
       "timer                                                                         \n",
       "0               -7.226562         6.850586         0.908203     -53937500.0   \n",
       "1               -7.167969         6.801758         0.786133     -53937500.0   \n",
       "1               -7.167969         6.801758         0.786133     -53937500.0   \n",
       "2               -7.167969         6.801758         0.786133     -53937500.0   \n",
       "2               -7.177734         6.752930         0.834961     -53937500.0   \n",
       "...                   ...              ...              ...             ...   \n",
       "86277647        -7.202148         7.001953         0.859375     -51750000.0   \n",
       "86277648        -7.036133         6.767578         0.839844     -51750000.0   \n",
       "86277649        -7.084961         6.821289         0.849609     -51750000.0   \n",
       "86277650        -7.084961         6.821289         0.849609     -51750000.0   \n",
       "86277650        -7.167969         6.928711         0.883789     -54312500.0   \n",
       "\n",
       "          magnetometer_y  magnetometer_z      count  \n",
       "timer                                                \n",
       "0              4062500.0      -5937500.0          0  \n",
       "1              4062500.0      -5937500.0          1  \n",
       "1              4062500.0      -5937500.0          2  \n",
       "2              4062500.0      -5937500.0          3  \n",
       "2              4062500.0      -5937500.0          4  \n",
       "...                  ...             ...        ...  \n",
       "86277647       3750000.0      -6000000.0  177331474  \n",
       "86277648       3750000.0      -6000000.0  177331475  \n",
       "86277649       3750000.0      -6000000.0  177331476  \n",
       "86277650       3750000.0      -6000000.0  177331477  \n",
       "86277650       3750000.0      -4812500.0  177331478  \n",
       "\n",
       "[177331479 rows x 7 columns]"
      ]
     },
     "execution_count": 5,
     "metadata": {},
     "output_type": "execute_result"
    }
   ],
   "source": [
    "dict_no_audio = {}\n",
    "for k in unpickled_df.keys():\n",
    "    if k != 'audio':\n",
    "        dict_no_audio[k] = unpickled_df[k]\n",
    "\n",
    "print(dict_no_audio['accelerometer_x'].size, ' / ', dict_no_audio['magnetometer_x'].size, ' / ', dict_no_audio['timer'].size)\n",
    "############################################\n",
    "# das hier ist ist hoffentlich nur für das 1h example notwendig\n",
    "#dict_no_audio['timer'] = np.append(dict_no_audio['timer'], 3599906)\n",
    "#print('after append: ', dict_no_audio['accelerometer_x'].size, ' / ', dict_no_audio['magnetometer_x'].size, ' / ', dict_no_audio['timer'].size)\n",
    "############################################\n",
    "\n",
    "df_no_audio = pd.DataFrame(dict_no_audio)\n",
    "df_no_audio.set_index('timer', inplace=True)\n",
    "df_no_audio['count'] = np.arange(len(df_no_audio))\n",
    "df_no_audio"
   ]
  },
  {
   "cell_type": "code",
   "execution_count": 7,
   "metadata": {
    "ExecuteTime": {
     "end_time": "2021-11-26T12:56:00.681225Z",
     "start_time": "2021-11-26T12:56:00.398979Z"
    }
   },
   "outputs": [
    {
     "name": "stdout",
     "output_type": "stream",
     "text": [
      "[      50      100      150 ... 86277500 86277550 86277600] 1725552\n"
     ]
    }
   ],
   "source": [
    "# range von timer values an denen aufgeteilt werden muss\n",
    "# enthält immer die letzte ms die in einem Step sein soll\n",
    "val_range = np.array(range(50,unpickled_df['timer'].max(),50))\n",
    "print (val_range, val_range.size)"
   ]
  },
  {
   "cell_type": "code",
   "execution_count": 12,
   "metadata": {
    "ExecuteTime": {
     "end_time": "2021-11-25T18:07:44.782536Z",
     "start_time": "2021-11-25T18:07:44.773854Z"
    }
   },
   "outputs": [
    {
     "data": {
      "text/plain": [
       "accelerometer_x   -7.167969e+00\n",
       "accelerometer_y    6.801758e+00\n",
       "accelerometer_z    7.861328e-01\n",
       "magnetometer_x    -5.393750e+07\n",
       "magnetometer_y     4.062500e+06\n",
       "magnetometer_z    -5.937500e+06\n",
       "count              1.000000e+00\n",
       "Name: 1, dtype: float64"
      ]
     },
     "execution_count": 12,
     "metadata": {},
     "output_type": "execute_result"
    }
   ],
   "source": [
    "# überprüfen ob der richtige Index für den entsprechende Timer Wert gefunden wurde\n",
    "# bei timer sollte 50 stehen (50ms == 1/20sec)\n",
    "df_no_audio.iloc[1]"
   ]
  },
  {
   "cell_type": "code",
   "execution_count": null,
   "metadata": {
    "ExecuteTime": {
     "start_time": "2021-11-26T12:56:22.844Z"
    },
    "scrolled": true
   },
   "outputs": [],
   "source": [
    "###################### nach MS ################################################\n",
    "# erstellen eines leeren dictionaries\n",
    "smt_dict = {}\n",
    "\n",
    "for variable in unpickled_df.keys():\n",
    "    if \"accelerometer\" in variable:\n",
    "        # Array wird anhand der Indizes der MS gesplittet, mit NaN values auf die selbe lenge gebracht und gestacked\n",
    "        ac_split_arr = np.split(unpickled_df[variable], val_range)\n",
    "        pad = len(max(ac_split_arr, key=len))\n",
    "        pad_ac_split_arr = np.array([np.append(i, [[np.nan]*(pad-len(i))]) for i in ac_split_arr])\n",
    "        stack_ac_split_arr = np.vstack(pad_ac_split_arr)\n",
    "        \n",
    "        # Zusammenfassen und in dictionary schreiben, NaN values werden ignoriert\n",
    "        # maximum\n",
    "        smt_dict[variable+'_max'] = np.nanmax(stack_ac_split_arr, axis = 1)\n",
    "        # 95% quantile\n",
    "        smt_dict[variable+'_95q'] = np.nanquantile(stack_ac_split_arr, 0.95, axis = 1)\n",
    "        # minimum\n",
    "        smt_dict[variable+'_min'] = np.nanmin(stack_ac_split_arr, axis = 1)\n",
    "        # 5% quantile\n",
    "        smt_dict[variable+'_05q'] = np.nanquantile(stack_ac_split_arr, 0.05, axis = 1)\n",
    "        \n",
    "    elif \"magnetometer\" in variable:\n",
    "        # Array wird anhand der Indizes der MS gesplittet, mit NaN values auf die selbe lenge gebracht und gestacked\n",
    "        ma_split_arr = np.split(unpickled_df[variable], val_range)\n",
    "        pad = len(max(ma_split_arr, key=len))\n",
    "        pad_ma_split_arr = np.array([np.append(i, [[np.nan]*(pad-len(i))]) for i in ma_split_arr])\n",
    "        stack_ma_split_arr = np.vstack(pad_ma_split_arr)\n",
    "        \n",
    "        # Zusammenfassen und in dictionary schreiben, NaN values werden ignoriert\n",
    "        # mean\n",
    "        smt_dict[variable+'_mean'] = np.nanmean(stack_ma_split_arr, axis = 1)\n",
    "        # median\n",
    "        smt_dict[variable+'_med'] = np.nanmedian(stack_ma_split_arr, axis = 1)\n",
    "        \n",
    "    elif \"audio\" in variable:\n",
    "        au_split_arr = np.split(unpickled_df[variable], range(audio_step, unpickled_df['audio'].size, audio_step))\n",
    "        pad = len(max(au_split_arr, key=len))\n",
    "        pad_au_split_arr = np.array([np.append(i, [[np.nan]*(pad-len(i))]) for i in au_split_arr])\n",
    "        stack_au_split_arr = np.vstack(pad_au_split_arr)\n",
    "        \n",
    "        # Zusammenfassen und in DataFrame schreiben, NaN values werden ignoriert\n",
    "        # maximum\n",
    "        smt_dict[variable+'_max'] = np.amax(au_split_arr, axis = 1)\n",
    "        # 95% quantile\n",
    "        smt_dict[variable+'_95q'] = np.quantile(au_split_arr, 0.95, axis = 1)\n",
    "\n",
    "        \n",
    "print('sensor ', smt_dict['accelerometer_x_max'].size)\n",
    "print('audio ', smt_dict['audio_max'].size)"
   ]
  },
  {
   "cell_type": "code",
   "execution_count": null,
   "metadata": {},
   "outputs": [],
   "source": []
  }
 ],
 "metadata": {
  "kernelspec": {
   "display_name": "Python 3 (ipykernel)",
   "language": "python",
   "name": "python3"
  },
  "language_info": {
   "codemirror_mode": {
    "name": "ipython",
    "version": 3
   },
   "file_extension": ".py",
   "mimetype": "text/x-python",
   "name": "python",
   "nbconvert_exporter": "python",
   "pygments_lexer": "ipython3",
   "version": "3.8.12"
  }
 },
 "nbformat": 4,
 "nbformat_minor": 2
}
