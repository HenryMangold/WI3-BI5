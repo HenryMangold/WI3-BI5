{
 "cells": [
  {
   "cell_type": "code",
   "execution_count": 1,
   "metadata": {
    "ExecuteTime": {
     "end_time": "2021-11-28T20:28:24.987343Z",
     "start_time": "2021-11-28T20:28:24.764646Z"
    }
   },
   "outputs": [],
   "source": [
    "import numpy as np\n",
    "import pandas as pd\n",
    "import os"
   ]
  },
  {
   "cell_type": "markdown",
   "metadata": {},
   "source": [
    "<h1>Daten Einlesen</h1>"
   ]
  },
  {
   "cell_type": "code",
   "execution_count": 2,
   "metadata": {
    "ExecuteTime": {
     "end_time": "2021-11-28T20:28:27.329830Z",
     "start_time": "2021-11-28T20:28:27.246592Z"
    },
    "scrolled": false
   },
   "outputs": [
    {
     "name": "stdout",
     "output_type": "stream",
     "text": [
      "{'accelerometer_x': array([-7.0458984, -7.0458984, -7.0654297, ..., -7.104492 , -7.104492 ,\n",
      "       -7.060547 ], dtype=float32), 'accelerometer_y': array([6.9628906, 6.9628906, 6.982422 , ..., 6.9433594, 6.9433594,\n",
      "       6.8896484], dtype=float32), 'accelerometer_z': array([0.7324219 , 0.7324219 , 0.7763672 , ..., 0.7910156 , 0.7910156 ,\n",
      "       0.80078125], dtype=float32), 'magnetometer_x': array([-52250000., -54125000., -54125000., ..., -53437500., -54187500.,\n",
      "       -54187500.], dtype=float32), 'magnetometer_y': array([4437500., -312500., -312500., ..., 1875000.,  750000.,  750000.],\n",
      "      dtype=float32), 'magnetometer_z': array([-7750000., -4250000., -4250000., ..., -5875000., -3875000.,\n",
      "       -3875000.], dtype=float32), 'audio': array([0.00689697, 0.00643921, 0.00540161, ..., 0.01193237, 0.01010132,\n",
      "       0.01739502], dtype=float32), 'timer': array([      0,       1,       2, ..., 3599905, 3599905, 3599906],\n",
      "      dtype=uint32)}\n"
     ]
    }
   ],
   "source": [
    "unpickled_df = pd.read_pickle(\"../WI3_BusinessIntelligence_Data/data_inside_20211010_160005_one_hour_example.pkl\")\n",
    "\n",
    "print(unpickled_df)"
   ]
  },
  {
   "cell_type": "code",
   "execution_count": 3,
   "metadata": {
    "ExecuteTime": {
     "end_time": "2021-11-22T18:07:10.814058Z",
     "start_time": "2021-11-22T18:07:10.681448Z"
    }
   },
   "outputs": [
    {
     "name": "stdout",
     "output_type": "stream",
     "text": [
      "86277650\n"
     ]
    }
   ],
   "source": [
    "print(unpickled_df['timer'].max())"
   ]
  },
  {
   "cell_type": "markdown",
   "metadata": {},
   "source": [
    "<h1>Audio Step für Smoothing festlegen</h1>"
   ]
  },
  {
   "cell_type": "code",
   "execution_count": 3,
   "metadata": {
    "ExecuteTime": {
     "end_time": "2021-11-28T20:28:32.067332Z",
     "start_time": "2021-11-28T20:28:32.062162Z"
    }
   },
   "outputs": [
    {
     "name": "stdout",
     "output_type": "stream",
     "text": [
      "audio steps: 105\n"
     ]
    }
   ],
   "source": [
    "# to 20Hz\n",
    "# Calculation:   audio_step  =  2100d/s  /  20Hz  =  105s\n",
    "\n",
    "audio_step = int(2100 / 20) \n",
    "\n",
    "print('audio steps:', audio_step)"
   ]
  },
  {
   "cell_type": "markdown",
   "metadata": {},
   "source": [
    "<h1>Indizes für den Split der Sensor Dateien finden</h1>"
   ]
  },
  {
   "cell_type": "code",
   "execution_count": 5,
   "metadata": {
    "ExecuteTime": {
     "end_time": "2021-11-28T20:28:47.522041Z",
     "start_time": "2021-11-28T20:28:47.390762Z"
    }
   },
   "outputs": [
    {
     "name": "stdout",
     "output_type": "stream",
     "text": [
      "7415239  /  7415239  /  7415238\n"
     ]
    },
    {
     "data": {
      "text/html": [
       "<div>\n",
       "<style scoped>\n",
       "    .dataframe tbody tr th:only-of-type {\n",
       "        vertical-align: middle;\n",
       "    }\n",
       "\n",
       "    .dataframe tbody tr th {\n",
       "        vertical-align: top;\n",
       "    }\n",
       "\n",
       "    .dataframe thead th {\n",
       "        text-align: right;\n",
       "    }\n",
       "</style>\n",
       "<table border=\"1\" class=\"dataframe\">\n",
       "  <thead>\n",
       "    <tr style=\"text-align: right;\">\n",
       "      <th></th>\n",
       "      <th>accelerometer_x</th>\n",
       "      <th>accelerometer_y</th>\n",
       "      <th>accelerometer_z</th>\n",
       "      <th>magnetometer_x</th>\n",
       "      <th>magnetometer_y</th>\n",
       "      <th>magnetometer_z</th>\n",
       "      <th>timer</th>\n",
       "    </tr>\n",
       "  </thead>\n",
       "  <tbody>\n",
       "    <tr>\n",
       "      <th>0</th>\n",
       "      <td>-7.045898</td>\n",
       "      <td>6.962891</td>\n",
       "      <td>0.732422</td>\n",
       "      <td>-52250000.0</td>\n",
       "      <td>4437500.0</td>\n",
       "      <td>-7750000.0</td>\n",
       "      <td>0</td>\n",
       "    </tr>\n",
       "    <tr>\n",
       "      <th>1</th>\n",
       "      <td>-7.045898</td>\n",
       "      <td>6.962891</td>\n",
       "      <td>0.732422</td>\n",
       "      <td>-54125000.0</td>\n",
       "      <td>-312500.0</td>\n",
       "      <td>-4250000.0</td>\n",
       "      <td>1</td>\n",
       "    </tr>\n",
       "    <tr>\n",
       "      <th>2</th>\n",
       "      <td>-7.065430</td>\n",
       "      <td>6.982422</td>\n",
       "      <td>0.776367</td>\n",
       "      <td>-54125000.0</td>\n",
       "      <td>-312500.0</td>\n",
       "      <td>-4250000.0</td>\n",
       "      <td>2</td>\n",
       "    </tr>\n",
       "    <tr>\n",
       "      <th>3</th>\n",
       "      <td>-7.104492</td>\n",
       "      <td>6.962891</td>\n",
       "      <td>0.776367</td>\n",
       "      <td>-54125000.0</td>\n",
       "      <td>-312500.0</td>\n",
       "      <td>-4250000.0</td>\n",
       "      <td>2</td>\n",
       "    </tr>\n",
       "    <tr>\n",
       "      <th>4</th>\n",
       "      <td>-7.104492</td>\n",
       "      <td>6.962891</td>\n",
       "      <td>0.776367</td>\n",
       "      <td>-54125000.0</td>\n",
       "      <td>-312500.0</td>\n",
       "      <td>-4250000.0</td>\n",
       "      <td>2</td>\n",
       "    </tr>\n",
       "    <tr>\n",
       "      <th>...</th>\n",
       "      <td>...</td>\n",
       "      <td>...</td>\n",
       "      <td>...</td>\n",
       "      <td>...</td>\n",
       "      <td>...</td>\n",
       "      <td>...</td>\n",
       "      <td>...</td>\n",
       "    </tr>\n",
       "    <tr>\n",
       "      <th>7415234</th>\n",
       "      <td>-7.109375</td>\n",
       "      <td>6.948242</td>\n",
       "      <td>0.815430</td>\n",
       "      <td>-53437500.0</td>\n",
       "      <td>1875000.0</td>\n",
       "      <td>-5875000.0</td>\n",
       "      <td>3599905</td>\n",
       "    </tr>\n",
       "    <tr>\n",
       "      <th>7415235</th>\n",
       "      <td>-7.109375</td>\n",
       "      <td>6.948242</td>\n",
       "      <td>0.815430</td>\n",
       "      <td>-53437500.0</td>\n",
       "      <td>1875000.0</td>\n",
       "      <td>-5875000.0</td>\n",
       "      <td>3599905</td>\n",
       "    </tr>\n",
       "    <tr>\n",
       "      <th>7415236</th>\n",
       "      <td>-7.104492</td>\n",
       "      <td>6.943359</td>\n",
       "      <td>0.791016</td>\n",
       "      <td>-53437500.0</td>\n",
       "      <td>1875000.0</td>\n",
       "      <td>-5875000.0</td>\n",
       "      <td>3599905</td>\n",
       "    </tr>\n",
       "    <tr>\n",
       "      <th>7415237</th>\n",
       "      <td>-7.104492</td>\n",
       "      <td>6.943359</td>\n",
       "      <td>0.791016</td>\n",
       "      <td>-54187500.0</td>\n",
       "      <td>750000.0</td>\n",
       "      <td>-3875000.0</td>\n",
       "      <td>3599906</td>\n",
       "    </tr>\n",
       "    <tr>\n",
       "      <th>7415238</th>\n",
       "      <td>-7.060547</td>\n",
       "      <td>6.889648</td>\n",
       "      <td>0.800781</td>\n",
       "      <td>-54187500.0</td>\n",
       "      <td>750000.0</td>\n",
       "      <td>-3875000.0</td>\n",
       "      <td>3599906</td>\n",
       "    </tr>\n",
       "  </tbody>\n",
       "</table>\n",
       "<p>7415239 rows × 7 columns</p>\n",
       "</div>"
      ],
      "text/plain": [
       "         accelerometer_x  accelerometer_y  accelerometer_z  magnetometer_x  \\\n",
       "0              -7.045898         6.962891         0.732422     -52250000.0   \n",
       "1              -7.045898         6.962891         0.732422     -54125000.0   \n",
       "2              -7.065430         6.982422         0.776367     -54125000.0   \n",
       "3              -7.104492         6.962891         0.776367     -54125000.0   \n",
       "4              -7.104492         6.962891         0.776367     -54125000.0   \n",
       "...                  ...              ...              ...             ...   \n",
       "7415234        -7.109375         6.948242         0.815430     -53437500.0   \n",
       "7415235        -7.109375         6.948242         0.815430     -53437500.0   \n",
       "7415236        -7.104492         6.943359         0.791016     -53437500.0   \n",
       "7415237        -7.104492         6.943359         0.791016     -54187500.0   \n",
       "7415238        -7.060547         6.889648         0.800781     -54187500.0   \n",
       "\n",
       "         magnetometer_y  magnetometer_z    timer  \n",
       "0             4437500.0      -7750000.0        0  \n",
       "1             -312500.0      -4250000.0        1  \n",
       "2             -312500.0      -4250000.0        2  \n",
       "3             -312500.0      -4250000.0        2  \n",
       "4             -312500.0      -4250000.0        2  \n",
       "...                 ...             ...      ...  \n",
       "7415234       1875000.0      -5875000.0  3599905  \n",
       "7415235       1875000.0      -5875000.0  3599905  \n",
       "7415236       1875000.0      -5875000.0  3599905  \n",
       "7415237        750000.0      -3875000.0  3599906  \n",
       "7415238        750000.0      -3875000.0  3599906  \n",
       "\n",
       "[7415239 rows x 7 columns]"
      ]
     },
     "execution_count": 5,
     "metadata": {},
     "output_type": "execute_result"
    }
   ],
   "source": [
    "dict_no_audio = {}\n",
    "for k in unpickled_df.keys():\n",
    "    if k != 'audio':\n",
    "        dict_no_audio[k] = unpickled_df[k]\n",
    "     \n",
    "print(dict_no_audio['accelerometer_x'].size, ' / ', dict_no_audio['magnetometer_x'].size, ' / ', dict_no_audio['timer'].size)\n",
    "############################################\n",
    "# das hier ist ist hoffentlich nur für das 1h example notwendig\n",
    "dict_no_audio['timer'] = np.append(dict_no_audio['timer'], 3599906)\n",
    "#print('after append: ', dict_no_audio['accelerometer_x'].size, ' / ', dict_no_audio['magnetometer_x'].size, ' / ', dict_no_audio['timer'].size)\n",
    "############################################\n",
    "\n",
    "df_no_audio = pd.DataFrame(dict_no_audio)\n",
    "df_no_audio"
   ]
  },
  {
   "cell_type": "code",
   "execution_count": 6,
   "metadata": {
    "ExecuteTime": {
     "end_time": "2021-11-28T20:28:50.631019Z",
     "start_time": "2021-11-28T20:28:50.607323Z"
    }
   },
   "outputs": [
    {
     "name": "stdout",
     "output_type": "stream",
     "text": [
      "[     49      99     149 ... 3599799 3599849 3599899]\n",
      "71998\n"
     ]
    }
   ],
   "source": [
    "# range von timer values an denen aufgeteilt werden muss\n",
    "# enthält immer die letzte ms die in einem Step sein soll\n",
    "val_range = np.array(range(49,unpickled_df['timer'].max(),50))\n",
    "print (val_range)\n",
    "print (val_range.size)"
   ]
  },
  {
   "cell_type": "code",
   "execution_count": 7,
   "metadata": {
    "ExecuteTime": {
     "end_time": "2021-11-28T20:28:53.945068Z",
     "start_time": "2021-11-28T20:28:53.866001Z"
    }
   },
   "outputs": [],
   "source": [
    "# für jede ms in val_range den index der folgenden ms bestimmen (dieser index wird in der split funktion später gebraucht)\n",
    "i_split_arr = []\n",
    "i = 0\n",
    "for ms in val_range:\n",
    "    i_split_arr.append(dict_no_audio['timer'].searchsorted(ms, side='right'))\n",
    "#print(i_split_arr)"
   ]
  },
  {
   "cell_type": "code",
   "execution_count": 8,
   "metadata": {
    "ExecuteTime": {
     "end_time": "2021-11-28T20:28:58.225842Z",
     "start_time": "2021-11-28T20:28:58.220503Z"
    }
   },
   "outputs": [
    {
     "name": "stdout",
     "output_type": "stream",
     "text": [
      "71998\n"
     ]
    }
   ],
   "source": [
    "print(len(i_split_arr))"
   ]
  },
  {
   "cell_type": "markdown",
   "metadata": {},
   "source": [
    "https://stackoverflow.com/questions/41255215/pandas-find-first-occurrence\n",
    "\n",
    "numpy searchsorted bei hourly example: ~100ms - warum dauert es hier so viel länger?\n",
    "  - Lenge des 'i_split_arr' nach 58m und keyboard interupt sind ~16k einträge. Das 'hour example' hat 72k einträge in ~100ms"
   ]
  },
  {
   "cell_type": "code",
   "execution_count": null,
   "metadata": {
    "ExecuteTime": {
     "start_time": "2021-11-22T18:07:08.122Z"
    }
   },
   "outputs": [],
   "source": [
    "# überprüfen ob der richtige Index für den entsprechende Timer Wert gefunden wurde\n",
    "# bei timer sollte 50 stehen (50ms == 1/20sec)\n",
    "df_no_audio.iloc[i_split_arr[0]]"
   ]
  },
  {
   "cell_type": "code",
   "execution_count": null,
   "metadata": {
    "ExecuteTime": {
     "start_time": "2021-11-22T18:07:08.126Z"
    },
    "scrolled": true
   },
   "outputs": [],
   "source": [
    "###################### nach MS ################################################\n",
    "# erstellen eines leeren dictionaries\n",
    "smt_dict = {}\n",
    "\n",
    "for variable in unpickled_df.keys():\n",
    "    if \"accelerometer\" in variable:\n",
    "        # Array wird anhand der Indizes der MS gesplittet, mit NaN values auf die selbe lenge gebracht und gestacked\n",
    "        ac_split_arr = np.split(unpickled_df[variable], i_split_arr)\n",
    "        pad = len(max(ac_split_arr, key=len))\n",
    "        pad_ac_split_arr = np.array([np.append(i, [[np.nan]*(pad-len(i))]) for i in ac_split_arr])\n",
    "        stack_ac_split_arr = np.vstack(pad_ac_split_arr)\n",
    "        \n",
    "        # Zusammenfassen und in dictionary schreiben, NaN values werden ignoriert\n",
    "        # maximum\n",
    "        smt_dict[variable+'_max'] = np.nanmax(stack_ac_split_arr, axis = 1)\n",
    "        # 95% quantile\n",
    "        smt_dict[variable+'_95q'] = np.nanquantile(stack_ac_split_arr, 0.95, axis = 1)\n",
    "        # minimum\n",
    "        smt_dict[variable+'_min'] = np.nanmin(stack_ac_split_arr, axis = 1)\n",
    "        # 5% quantile\n",
    "        smt_dict[variable+'_05q'] = np.nanquantile(stack_ac_split_arr, 0.05, axis = 1)\n",
    "        \n",
    "    elif \"magnetometer\" in variable:\n",
    "        # Array wird anhand der Indizes der MS gesplittet, mit NaN values auf die selbe lenge gebracht und gestacked\n",
    "        ma_split_arr = np.split(unpickled_df[variable], i_split_arr)\n",
    "        pad = len(max(ma_split_arr, key=len))\n",
    "        pad_ma_split_arr = np.array([np.append(i, [[np.nan]*(pad-len(i))]) for i in ma_split_arr])\n",
    "        stack_ma_split_arr = np.vstack(pad_ma_split_arr)\n",
    "        \n",
    "        # Zusammenfassen und in dictionary schreiben, NaN values werden ignoriert\n",
    "        # mean\n",
    "        smt_dict[variable+'_mean'] = np.nanmean(stack_ma_split_arr, axis = 1)\n",
    "        # median\n",
    "        smt_dict[variable+'_med'] = np.nanmedian(stack_ma_split_arr, axis = 1)\n",
    "        \n",
    "    elif \"audio\" in variable:\n",
    "        au_split_arr = np.vstack(np.split(unpickled_df[variable], range(audio_step, unpickled_df['audio'].size, audio_step))[:-1])\n",
    "        \n",
    "        # Zusammenfassen und in DataFrame schreiben, NaN values werden ignoriert\n",
    "        # maximum\n",
    "        smt_dict[variable+'_max'] = np.amax(au_split_arr, axis = 1)\n",
    "        # 95% quantile\n",
    "        smt_dict[variable+'_95q'] = np.quantile(au_split_arr, 0.95, axis = 1)\n",
    "\n",
    "        \n",
    "print('sensor ', smt_dict['accelerometer_x_max'].size)\n",
    "print('audio ', smt_dict['audio_max'].size)"
   ]
  }
 ],
 "metadata": {
  "kernelspec": {
   "display_name": "Python 3 (ipykernel)",
   "language": "python",
   "name": "python3"
  },
  "language_info": {
   "codemirror_mode": {
    "name": "ipython",
    "version": 3
   },
   "file_extension": ".py",
   "mimetype": "text/x-python",
   "name": "python",
   "nbconvert_exporter": "python",
   "pygments_lexer": "ipython3",
   "version": "3.8.12"
  }
 },
 "nbformat": 4,
 "nbformat_minor": 2
}
