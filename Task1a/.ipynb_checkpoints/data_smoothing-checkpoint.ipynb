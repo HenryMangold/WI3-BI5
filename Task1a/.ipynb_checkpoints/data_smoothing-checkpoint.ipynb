{
 "cells": [
  {
   "cell_type": "code",
   "execution_count": 1,
   "metadata": {
    "ExecuteTime": {
     "end_time": "2021-11-19T12:38:39.324020Z",
     "start_time": "2021-11-19T12:38:39.079770Z"
    }
   },
   "outputs": [],
   "source": [
    "import numpy as np\n",
    "import pandas as pd\n",
    "import os"
   ]
  },
  {
   "cell_type": "markdown",
   "metadata": {},
   "source": [
    "<h1>Daten Einlesen</h1>"
   ]
  },
  {
   "cell_type": "code",
   "execution_count": 2,
   "metadata": {
    "ExecuteTime": {
     "end_time": "2021-11-19T12:38:40.698284Z",
     "start_time": "2021-11-19T12:38:39.325705Z"
    },
    "scrolled": false
   },
   "outputs": [
    {
     "name": "stdout",
     "output_type": "stream",
     "text": [
      "{'accelerometer_x': array([-7.2265625, -7.1679688, -7.1679688, ..., -7.084961 , -7.084961 ,\n",
      "       -7.1679688], dtype=float32), 'accelerometer_y': array([6.850586, 6.801758, 6.801758, ..., 6.821289, 6.821289, 6.928711],\n",
      "      dtype=float32), 'accelerometer_z': array([0.9082031 , 0.7861328 , 0.7861328 , ..., 0.8496094 , 0.8496094 ,\n",
      "       0.88378906], dtype=float32), 'magnetometer_x': array([-53937500., -53937500., -53937500., ..., -51750000., -51750000.,\n",
      "       -54312500.], dtype=float32), 'magnetometer_y': array([4062500., 4062500., 4062500., ..., 3750000., 3750000., 3750000.],\n",
      "      dtype=float32), 'magnetometer_z': array([-5937500., -5937500., -5937500., ..., -6000000., -6000000.,\n",
      "       -4812500.], dtype=float32), 'audio': array([0.00872803, 0.0083313 , 0.00796509, ..., 0.0163269 , 0.0163269 ,\n",
      "       0.01504517], dtype=float32), 'timer': array([       0,        1,        1, ..., 86277649, 86277650, 86277650],\n",
      "      dtype=int32)}\n"
     ]
    }
   ],
   "source": [
    "unpickled_df = pd.read_pickle(\"../WI3_BusinessIntelligence_Data/data_inside_20211012_000102.pkl\")\n",
    "\n",
    "print(unpickled_df)"
   ]
  },
  {
   "cell_type": "code",
   "execution_count": 3,
   "metadata": {
    "ExecuteTime": {
     "end_time": "2021-11-19T12:38:40.811693Z",
     "start_time": "2021-11-19T12:38:40.699741Z"
    }
   },
   "outputs": [
    {
     "name": "stdout",
     "output_type": "stream",
     "text": [
      "86277650\n"
     ]
    }
   ],
   "source": [
    "print(unpickled_df['timer'].max())"
   ]
  },
  {
   "cell_type": "markdown",
   "metadata": {},
   "source": [
    "<h1>Audio Step für Smoothing festlegen</h1>"
   ]
  },
  {
   "cell_type": "code",
   "execution_count": 4,
   "metadata": {
    "ExecuteTime": {
     "end_time": "2021-11-19T12:38:40.816324Z",
     "start_time": "2021-11-19T12:38:40.813602Z"
    }
   },
   "outputs": [
    {
     "name": "stdout",
     "output_type": "stream",
     "text": [
      "audio steps: 105\n"
     ]
    }
   ],
   "source": [
    "# to 20Hz\n",
    "# Calculation:   audio_step  =  2100d/s  /  20Hz  =  105s\n",
    "\n",
    "audio_step = int(2100 / 20) \n",
    "\n",
    "print('audio steps:', audio_step)"
   ]
  },
  {
   "cell_type": "markdown",
   "metadata": {},
   "source": [
    "<h1>Indizes für den Split der Sensor Dateien finden</h1>"
   ]
  },
  {
   "cell_type": "code",
   "execution_count": 5,
   "metadata": {
    "ExecuteTime": {
     "end_time": "2021-11-19T12:38:41.830181Z",
     "start_time": "2021-11-19T12:38:40.817413Z"
    }
   },
   "outputs": [
    {
     "name": "stdout",
     "output_type": "stream",
     "text": [
      "177331479  /  177331479  /  177331479\n"
     ]
    },
    {
     "data": {
      "text/html": [
       "<div>\n",
       "<style scoped>\n",
       "    .dataframe tbody tr th:only-of-type {\n",
       "        vertical-align: middle;\n",
       "    }\n",
       "\n",
       "    .dataframe tbody tr th {\n",
       "        vertical-align: top;\n",
       "    }\n",
       "\n",
       "    .dataframe thead th {\n",
       "        text-align: right;\n",
       "    }\n",
       "</style>\n",
       "<table border=\"1\" class=\"dataframe\">\n",
       "  <thead>\n",
       "    <tr style=\"text-align: right;\">\n",
       "      <th></th>\n",
       "      <th>accelerometer_x</th>\n",
       "      <th>accelerometer_y</th>\n",
       "      <th>accelerometer_z</th>\n",
       "      <th>magnetometer_x</th>\n",
       "      <th>magnetometer_y</th>\n",
       "      <th>magnetometer_z</th>\n",
       "      <th>timer</th>\n",
       "    </tr>\n",
       "  </thead>\n",
       "  <tbody>\n",
       "    <tr>\n",
       "      <th>0</th>\n",
       "      <td>-7.226562</td>\n",
       "      <td>6.850586</td>\n",
       "      <td>0.908203</td>\n",
       "      <td>-53937500.0</td>\n",
       "      <td>4062500.0</td>\n",
       "      <td>-5937500.0</td>\n",
       "      <td>0</td>\n",
       "    </tr>\n",
       "    <tr>\n",
       "      <th>1</th>\n",
       "      <td>-7.167969</td>\n",
       "      <td>6.801758</td>\n",
       "      <td>0.786133</td>\n",
       "      <td>-53937500.0</td>\n",
       "      <td>4062500.0</td>\n",
       "      <td>-5937500.0</td>\n",
       "      <td>1</td>\n",
       "    </tr>\n",
       "    <tr>\n",
       "      <th>2</th>\n",
       "      <td>-7.167969</td>\n",
       "      <td>6.801758</td>\n",
       "      <td>0.786133</td>\n",
       "      <td>-53937500.0</td>\n",
       "      <td>4062500.0</td>\n",
       "      <td>-5937500.0</td>\n",
       "      <td>1</td>\n",
       "    </tr>\n",
       "    <tr>\n",
       "      <th>3</th>\n",
       "      <td>-7.167969</td>\n",
       "      <td>6.801758</td>\n",
       "      <td>0.786133</td>\n",
       "      <td>-53937500.0</td>\n",
       "      <td>4062500.0</td>\n",
       "      <td>-5937500.0</td>\n",
       "      <td>2</td>\n",
       "    </tr>\n",
       "    <tr>\n",
       "      <th>4</th>\n",
       "      <td>-7.177734</td>\n",
       "      <td>6.752930</td>\n",
       "      <td>0.834961</td>\n",
       "      <td>-53937500.0</td>\n",
       "      <td>4062500.0</td>\n",
       "      <td>-5937500.0</td>\n",
       "      <td>2</td>\n",
       "    </tr>\n",
       "    <tr>\n",
       "      <th>...</th>\n",
       "      <td>...</td>\n",
       "      <td>...</td>\n",
       "      <td>...</td>\n",
       "      <td>...</td>\n",
       "      <td>...</td>\n",
       "      <td>...</td>\n",
       "      <td>...</td>\n",
       "    </tr>\n",
       "    <tr>\n",
       "      <th>177331474</th>\n",
       "      <td>-7.202148</td>\n",
       "      <td>7.001953</td>\n",
       "      <td>0.859375</td>\n",
       "      <td>-51750000.0</td>\n",
       "      <td>3750000.0</td>\n",
       "      <td>-6000000.0</td>\n",
       "      <td>86277647</td>\n",
       "    </tr>\n",
       "    <tr>\n",
       "      <th>177331475</th>\n",
       "      <td>-7.036133</td>\n",
       "      <td>6.767578</td>\n",
       "      <td>0.839844</td>\n",
       "      <td>-51750000.0</td>\n",
       "      <td>3750000.0</td>\n",
       "      <td>-6000000.0</td>\n",
       "      <td>86277648</td>\n",
       "    </tr>\n",
       "    <tr>\n",
       "      <th>177331476</th>\n",
       "      <td>-7.084961</td>\n",
       "      <td>6.821289</td>\n",
       "      <td>0.849609</td>\n",
       "      <td>-51750000.0</td>\n",
       "      <td>3750000.0</td>\n",
       "      <td>-6000000.0</td>\n",
       "      <td>86277649</td>\n",
       "    </tr>\n",
       "    <tr>\n",
       "      <th>177331477</th>\n",
       "      <td>-7.084961</td>\n",
       "      <td>6.821289</td>\n",
       "      <td>0.849609</td>\n",
       "      <td>-51750000.0</td>\n",
       "      <td>3750000.0</td>\n",
       "      <td>-6000000.0</td>\n",
       "      <td>86277650</td>\n",
       "    </tr>\n",
       "    <tr>\n",
       "      <th>177331478</th>\n",
       "      <td>-7.167969</td>\n",
       "      <td>6.928711</td>\n",
       "      <td>0.883789</td>\n",
       "      <td>-54312500.0</td>\n",
       "      <td>3750000.0</td>\n",
       "      <td>-4812500.0</td>\n",
       "      <td>86277650</td>\n",
       "    </tr>\n",
       "  </tbody>\n",
       "</table>\n",
       "<p>177331479 rows × 7 columns</p>\n",
       "</div>"
      ],
      "text/plain": [
       "           accelerometer_x  accelerometer_y  accelerometer_z  magnetometer_x  \\\n",
       "0                -7.226562         6.850586         0.908203     -53937500.0   \n",
       "1                -7.167969         6.801758         0.786133     -53937500.0   \n",
       "2                -7.167969         6.801758         0.786133     -53937500.0   \n",
       "3                -7.167969         6.801758         0.786133     -53937500.0   \n",
       "4                -7.177734         6.752930         0.834961     -53937500.0   \n",
       "...                    ...              ...              ...             ...   \n",
       "177331474        -7.202148         7.001953         0.859375     -51750000.0   \n",
       "177331475        -7.036133         6.767578         0.839844     -51750000.0   \n",
       "177331476        -7.084961         6.821289         0.849609     -51750000.0   \n",
       "177331477        -7.084961         6.821289         0.849609     -51750000.0   \n",
       "177331478        -7.167969         6.928711         0.883789     -54312500.0   \n",
       "\n",
       "           magnetometer_y  magnetometer_z     timer  \n",
       "0               4062500.0      -5937500.0         0  \n",
       "1               4062500.0      -5937500.0         1  \n",
       "2               4062500.0      -5937500.0         1  \n",
       "3               4062500.0      -5937500.0         2  \n",
       "4               4062500.0      -5937500.0         2  \n",
       "...                   ...             ...       ...  \n",
       "177331474       3750000.0      -6000000.0  86277647  \n",
       "177331475       3750000.0      -6000000.0  86277648  \n",
       "177331476       3750000.0      -6000000.0  86277649  \n",
       "177331477       3750000.0      -6000000.0  86277650  \n",
       "177331478       3750000.0      -4812500.0  86277650  \n",
       "\n",
       "[177331479 rows x 7 columns]"
      ]
     },
     "execution_count": 5,
     "metadata": {},
     "output_type": "execute_result"
    }
   ],
   "source": [
    "dict_no_audio = {}\n",
    "for k in unpickled_df.keys():\n",
    "    if k != 'audio':\n",
    "        dict_no_audio[k] = unpickled_df[k]\n",
    "     \n",
    "print(dict_no_audio['accelerometer_x'].size, ' / ', dict_no_audio['magnetometer_x'].size, ' / ', dict_no_audio['timer'].size)\n",
    "############################################\n",
    "# das hier ist ist hoffentlich nur für das 1h example notwendig\n",
    "#dict_no_audio['timer'] = np.append(dict_no_audio['timer'], 3599906)\n",
    "#print('after append: ', dict_no_audio['accelerometer_x'].size, ' / ', dict_no_audio['magnetometer_x'].size, ' / ', dict_no_audio['timer'].size)\n",
    "############################################\n",
    "\n",
    "df_no_audio = pd.DataFrame(dict_no_audio)\n",
    "df_no_audio"
   ]
  },
  {
   "cell_type": "code",
   "execution_count": 6,
   "metadata": {
    "ExecuteTime": {
     "end_time": "2021-11-19T12:38:42.084553Z",
     "start_time": "2021-11-19T12:38:41.831514Z"
    }
   },
   "outputs": [
    {
     "name": "stdout",
     "output_type": "stream",
     "text": [
      "[      49       99      149 ... 86277549 86277599 86277649]\n",
      "1725553\n"
     ]
    }
   ],
   "source": [
    "# range von timer values an denen aufgeteilt werden muss\n",
    "# enthält immer die letzte ms die in einem Step sein soll\n",
    "val_range = np.array(range(49,unpickled_df['timer'].max(),50))\n",
    "print (val_range)\n",
    "print (val_range.size)"
   ]
  },
  {
   "cell_type": "code",
   "execution_count": 7,
   "metadata": {
    "ExecuteTime": {
     "end_time": "2021-11-19T13:37:18.323899Z",
     "start_time": "2021-11-19T12:38:42.086044Z"
    }
   },
   "outputs": [
    {
     "ename": "KeyboardInterrupt",
     "evalue": "",
     "output_type": "error",
     "traceback": [
      "\u001b[0;31m---------------------------------------------------------------------------\u001b[0m",
      "\u001b[0;31mKeyboardInterrupt\u001b[0m                         Traceback (most recent call last)",
      "\u001b[0;32m/tmp/user/1019/ipykernel_5593/2186325321.py\u001b[0m in \u001b[0;36m<module>\u001b[0;34m\u001b[0m\n\u001b[1;32m      3\u001b[0m \u001b[0mi\u001b[0m \u001b[0;34m=\u001b[0m \u001b[0;36m0\u001b[0m\u001b[0;34m\u001b[0m\u001b[0;34m\u001b[0m\u001b[0m\n\u001b[1;32m      4\u001b[0m \u001b[0;32mfor\u001b[0m \u001b[0mms\u001b[0m \u001b[0;32min\u001b[0m \u001b[0mval_range\u001b[0m\u001b[0;34m:\u001b[0m\u001b[0;34m\u001b[0m\u001b[0;34m\u001b[0m\u001b[0m\n\u001b[0;32m----> 5\u001b[0;31m     \u001b[0mi_split_arr\u001b[0m\u001b[0;34m.\u001b[0m\u001b[0mappend\u001b[0m\u001b[0;34m(\u001b[0m\u001b[0mdict_no_audio\u001b[0m\u001b[0;34m[\u001b[0m\u001b[0;34m'timer'\u001b[0m\u001b[0;34m]\u001b[0m\u001b[0;34m.\u001b[0m\u001b[0msearchsorted\u001b[0m\u001b[0;34m(\u001b[0m\u001b[0mms\u001b[0m\u001b[0;34m,\u001b[0m \u001b[0mside\u001b[0m\u001b[0;34m=\u001b[0m\u001b[0;34m'right'\u001b[0m\u001b[0;34m)\u001b[0m\u001b[0;34m)\u001b[0m\u001b[0;34m\u001b[0m\u001b[0;34m\u001b[0m\u001b[0m\n\u001b[0m\u001b[1;32m      6\u001b[0m \u001b[0mprint\u001b[0m\u001b[0;34m(\u001b[0m\u001b[0mi_split_arr\u001b[0m\u001b[0;34m)\u001b[0m\u001b[0;34m\u001b[0m\u001b[0;34m\u001b[0m\u001b[0m\n",
      "\u001b[0;31mKeyboardInterrupt\u001b[0m: "
     ]
    }
   ],
   "source": [
    "# für jede ms in val_range den index der folgenden ms bestimmen (dieser index wird in der split funktion später gebraucht)\n",
    "i_split_arr = []\n",
    "i = 0\n",
    "for ms in val_range:\n",
    "    i_split_arr.append(dict_no_audio['timer'].searchsorted(ms, side='right'))\n",
    "#print(i_split_arr)"
   ]
  },
  {
   "cell_type": "code",
   "execution_count": 10,
   "metadata": {
    "ExecuteTime": {
     "end_time": "2021-11-19T14:59:01.377753Z",
     "start_time": "2021-11-19T14:59:01.372876Z"
    }
   },
   "outputs": [
    {
     "name": "stdout",
     "output_type": "stream",
     "text": [
      "15838\n"
     ]
    }
   ],
   "source": [
    "print(len(i_split_arr))"
   ]
  },
  {
   "cell_type": "markdown",
   "metadata": {},
   "source": [
    "https://stackoverflow.com/questions/41255215/pandas-find-first-occurrence\n",
    "\n",
    "numpy searchsorted bei hourly example: ~100ms - warum dauert es hier so viel länger?\n",
    "- eventuell andere Suchalgorithmen ausprobieren? np.searchsorted ist aber eigentlich auch bei großen datensätzen effizient (siehe Link)\n",
    "- Ist vielleicht die Hardware das Problem? Ich sehe auch keinen Auschlag auf Glados wenn ich etwas ausführe. Weder Ram noch GPU/CPU power\n",
    "  - Lenge des 'i_split_arr' nach 58m und keyboard interupt sind ~16k einträge. Das 'hour example' hat 72k einträge in ~100ms"
   ]
  },
  {
   "cell_type": "code",
   "execution_count": null,
   "metadata": {
    "ExecuteTime": {
     "end_time": "2021-11-19T13:37:18.325199Z",
     "start_time": "2021-11-19T13:37:18.325188Z"
    }
   },
   "outputs": [],
   "source": [
    "# überprüfen ob der richtige Index für den entsprechende Timer Wert gefunden wurde\n",
    "# bei timer sollte 50 stehen (50ms == 1/20sec)\n",
    "df_no_audio.iloc[i_split_arr[0]]"
   ]
  },
  {
   "cell_type": "code",
   "execution_count": null,
   "metadata": {
    "ExecuteTime": {
     "end_time": "2021-11-19T13:37:18.326066Z",
     "start_time": "2021-11-19T13:37:18.326055Z"
    },
    "scrolled": true
   },
   "outputs": [],
   "source": [
    "###################### nach MS ################################################\n",
    "# erstellen eines leeren dictionaries\n",
    "smt_dict = {}\n",
    "\n",
    "for variable in unpickled_df.keys():\n",
    "    if \"accelerometer\" in variable:\n",
    "        # Array wird anhand der Indizes der MS gesplittet, mit NaN values auf die selbe lenge gebracht und gestacked\n",
    "        ac_split_arr = np.split(unpickled_df[variable], i_split_arr)\n",
    "        pad = len(max(ac_split_arr, key=len))\n",
    "        pad_ac_split_arr = np.array([np.append(i, [[np.nan]*(pad-len(i))]) for i in ac_split_arr])\n",
    "        stack_ac_split_arr = np.vstack(pad_ac_split_arr)\n",
    "        \n",
    "        # Zusammenfassen und in dictionary schreiben, NaN values werden ignoriert\n",
    "        # maximum\n",
    "        smt_dict[variable+'_max'] = np.nanmax(stack_ac_split_arr, axis = 1)\n",
    "        # 95% quantile\n",
    "        smt_dict[variable+'_95q'] = np.nanquantile(stack_ac_split_arr, 0.95, axis = 1)\n",
    "        # minimum\n",
    "        smt_dict[variable+'_min'] = np.nanmin(stack_ac_split_arr, axis = 1)\n",
    "        # 5% quantile\n",
    "        smt_dict[variable+'_05q'] = np.nanquantile(stack_ac_split_arr, 0.05, axis = 1)\n",
    "        \n",
    "    elif \"magnetometer\" in variable:\n",
    "        # Array wird anhand der Indizes der MS gesplittet, mit NaN values auf die selbe lenge gebracht und gestacked\n",
    "        ma_split_arr = np.split(unpickled_df[variable], i_split_arr)\n",
    "        pad = len(max(ma_split_arr, key=len))\n",
    "        pad_ma_split_arr = np.array([np.append(i, [[np.nan]*(pad-len(i))]) for i in ma_split_arr])\n",
    "        stack_ma_split_arr = np.vstack(pad_ma_split_arr)\n",
    "        \n",
    "        # Zusammenfassen und in dictionary schreiben, NaN values werden ignoriert\n",
    "        # mean\n",
    "        smt_dict[variable+'_mean'] = np.nanmean(stack_ma_split_arr, axis = 1)\n",
    "        # median\n",
    "        smt_dict[variable+'_med'] = np.nanmedian(stack_ma_split_arr, axis = 1)\n",
    "        \n",
    "    elif \"audio\" in variable:\n",
    "        au_split_arr = np.vstack(np.split(unpickled_df[variable], range(audio_step, unpickled_df['audio'].size, audio_step))[:-1])\n",
    "        \n",
    "        # Zusammenfassen und in DataFrame schreiben, NaN values werden ignoriert\n",
    "        # maximum\n",
    "        smt_dict[variable+'_max'] = np.amax(au_split_arr, axis = 1)\n",
    "        # 95% quantile\n",
    "        smt_dict[variable+'_95q'] = np.quantile(au_split_arr, 0.95, axis = 1)\n",
    "\n",
    "        \n",
    "print('sensor ', smt_dict['accelerometer_x_max'].size)\n",
    "print('audio ', smt_dict['audio_max'].size)"
   ]
  },
  {
   "cell_type": "code",
   "execution_count": null,
   "metadata": {},
   "outputs": [],
   "source": []
  }
 ],
 "metadata": {
  "kernelspec": {
   "display_name": "Python 3 (ipykernel)",
   "language": "python",
   "name": "python3"
  },
  "language_info": {
   "codemirror_mode": {
    "name": "ipython",
    "version": 3
   },
   "file_extension": ".py",
   "mimetype": "text/x-python",
   "name": "python",
   "nbconvert_exporter": "python",
   "pygments_lexer": "ipython3",
   "version": "3.8.12"
  }
 },
 "nbformat": 4,
 "nbformat_minor": 2
}
