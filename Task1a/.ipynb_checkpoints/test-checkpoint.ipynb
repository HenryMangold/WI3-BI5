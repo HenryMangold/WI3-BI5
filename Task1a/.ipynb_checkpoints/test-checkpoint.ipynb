{
 "cells": [
  {
   "cell_type": "markdown",
   "metadata": {},
   "source": [
    "<b>Import Libraries</b>"
   ]
  },
  {
   "cell_type": "code",
   "execution_count": 2,
   "metadata": {
    "ExecuteTime": {
     "end_time": "2021-11-21T18:07:04.094656Z",
     "start_time": "2021-11-21T18:07:03.856978Z"
    }
   },
   "outputs": [],
   "source": [
    "import numpy as np\n",
    "import pandas as pd\n",
    "import os"
   ]
  },
  {
   "cell_type": "markdown",
   "metadata": {},
   "source": [
    "<b>Read Data</b>"
   ]
  },
  {
   "cell_type": "code",
   "execution_count": null,
   "metadata": {
    "ExecuteTime": {
     "end_time": "2021-11-14T16:08:41.807268Z",
     "start_time": "2021-11-14T16:08:15.488830Z"
    },
    "scrolled": true
   },
   "outputs": [],
   "source": [
    "unpickled_df = pd.read_pickle(\"../WI3_BusinessIntelligence_Data/data_inside_20211012_000102.pkl\")\n",
    "\n",
    "print(unpickled_df)"
   ]
  },
  {
   "cell_type": "markdown",
   "metadata": {},
   "source": [
    "<b>Determine frequency of records</b>"
   ]
  },
  {
   "cell_type": "code",
   "execution_count": null,
   "metadata": {
    "ExecuteTime": {
     "end_time": "2021-11-14T16:08:41.815069Z",
     "start_time": "2021-11-14T16:08:41.810121Z"
    }
   },
   "outputs": [],
   "source": [
    "# Calculation:   sensor_frequenz  =  anzahl_aufzeichnungen  /  gesamtzeit_in_s\n",
    "\n",
    "timer_array = unpickled_df['timer']\n",
    "\n",
    "sensor_fq = unpickled_df['timer'].size / (timer_array[- 1] / 1000)\n",
    "\n",
    "print('sensor frequenz:', sensor_fq)"
   ]
  },
  {
   "cell_type": "markdown",
   "metadata": {},
   "source": [
    "<b>Define step for data smoothing</b>"
   ]
  },
  {
   "cell_type": "code",
   "execution_count": null,
   "metadata": {
    "ExecuteTime": {
     "end_time": "2021-11-14T16:09:12.505140Z",
     "start_time": "2021-11-14T16:09:12.499740Z"
    }
   },
   "outputs": [],
   "source": [
    "# to 20Hz\n",
    "# Calculation:   audio_step  =  2100d/s  /  20Hz  =  105\n",
    "\n",
    "audio_step = 2100 / 20 \n",
    "\n",
    "sensor_step = sensor_fq // 20"
   ]
  },
  {
   "cell_type": "markdown",
   "metadata": {},
   "source": [
    "<b>Split into buckets</b>"
   ]
  },
  {
   "cell_type": "code",
   "execution_count": null,
   "metadata": {},
   "outputs": [],
   "source": [
    "i_anfang = 0\n",
    "i_ende = 105\n",
    "\n",
    "#while i < (unpickled_df['timer'].size - 1):\n",
    "while i_ende < 1000:  #-> temporär begrenzt bis 1000\n",
    "    for variable in unpickled_df.keys():\n",
    "        if \"accelerometer\" in variable:\n",
    "            # Array splitten + richtigen Split auswählen ?\n",
    "            a_split = np.split(unpickled_df[variable], [i_anfang, i_ende])[1]\n",
    "            \n",
    "            # Durschnittswert berechnen\n",
    "            \n",
    "            #df = pd.DataFrame(max(a_split))\n",
    "            \n",
    "            print(variable, a_split.size) #? sollte da nicht 104 rauskommen?\n",
    "            \n",
    "        elif \"magnetometer\" in variable:\n",
    "            print(variable)\n",
    "            \n",
    "        elif \"audio\" in variable:\n",
    "            print(variable)\n",
    "        \n",
    "    \n",
    "    i_anfang += 105\n",
    "    i_ende += 105"
   ]
  },
  {
   "cell_type": "code",
   "execution_count": null,
   "metadata": {},
   "outputs": [],
   "source": [
    "i_anfang\n"
   ]
  },
  {
   "cell_type": "code",
   "execution_count": null,
   "metadata": {
    "scrolled": true
   },
   "outputs": [],
   "source": [
    "df = pd.DataFrame()\n",
    "\n"
   ]
  },
  {
   "cell_type": "code",
   "execution_count": null,
   "metadata": {},
   "outputs": [],
   "source": []
  },
  {
   "cell_type": "code",
   "execution_count": null,
   "metadata": {},
   "outputs": [],
   "source": []
  },
  {
   "cell_type": "markdown",
   "metadata": {},
   "source": [
    "<b> Data Exploration & Testing </b>"
   ]
  },
  {
   "cell_type": "code",
   "execution_count": null,
   "metadata": {
    "ExecuteTime": {
     "end_time": "2021-11-17T11:50:03.698158Z",
     "start_time": "2021-11-17T11:50:02.655302Z"
    }
   },
   "outputs": [],
   "source": [
    "dict_no_audio = {}\n",
    "for k in unpickled_df.keys():\n",
    "    if k != 'audio':\n",
    "        dict_no_audio[k] = unpickled_df[k]\n",
    "df_no_audio = pd.DataFrame(dict_no_audio)\n",
    "df_no_audio"
   ]
  },
  {
   "cell_type": "code",
   "execution_count": null,
   "metadata": {},
   "outputs": [],
   "source": []
  },
  {
   "cell_type": "code",
   "execution_count": null,
   "metadata": {
    "ExecuteTime": {
     "end_time": "2021-11-13T17:02:17.830401Z",
     "start_time": "2021-11-13T17:02:15.532701Z"
    }
   },
   "outputs": [],
   "source": [
    "#read another datafile (pickle) --> unpickled_df\n",
    "\n",
    "unpickled_df = pd.read_pickle(\"../WI3_BusinessIntelligence_Data/data_inside_20211012_000102.pkl\")\n",
    "\n",
    "print(unpickled_df)"
   ]
  },
  {
   "cell_type": "code",
   "execution_count": null,
   "metadata": {},
   "outputs": [],
   "source": [
    "#Determine number of sensor records\n",
    "\n",
    "for key in unpickled_df.keys():\n",
    "    print (key, ': ', unpickled_df[key].size)"
   ]
  },
  {
   "cell_type": "code",
   "execution_count": null,
   "metadata": {},
   "outputs": [],
   "source": [
    "#read another datafile (pickle) --> unpickled2_df\n",
    "\n",
    "unpickled2_df = pd.read_pickle(\"../WI3_BusinessIntelligence_Data/data_inside_20211014_000058.pkl\")\n",
    "\n",
    "print(unpickled2_df)"
   ]
  },
  {
   "cell_type": "code",
   "execution_count": null,
   "metadata": {},
   "outputs": [],
   "source": [
    "#Determine number of sensor records\n",
    "\n",
    "for key in unpickled2_df.keys():\n",
    "    print (key, ': ', unpickled2_df[key].size)"
   ]
  },
  {
   "cell_type": "code",
   "execution_count": null,
   "metadata": {},
   "outputs": [],
   "source": [
    "# \n",
    "\n",
    "unique, frequency = np.unique(unpickled_df['timer'], return_counts = True) \n",
    "\n",
    "print(\"Unique Values:\", unique) \n",
    "print(\"Frequency Values:\", frequency)"
   ]
  },
  {
   "cell_type": "code",
   "execution_count": null,
   "metadata": {},
   "outputs": [],
   "source": [
    "# \n",
    "\n",
    "unique2, frequency2 = np.unique(frequency, return_counts = True) \n",
    "\n",
    "print(\"Unique Values:\", unique2) \n",
    "print(\"Frequency Values:\", frequency2)"
   ]
  },
  {
   "cell_type": "code",
   "execution_count": null,
   "metadata": {
    "ExecuteTime": {
     "end_time": "2021-11-13T17:10:10.410396Z",
     "start_time": "2021-11-13T17:10:10.274798Z"
    }
   },
   "outputs": [],
   "source": [
    "## Read all datafiles (pickles) --> unpickled_df_{day}\n",
    "\n",
    "day = 12 \n",
    "year = 2021\n",
    "month = 10\n",
    "\n",
    "while day < 31:\n",
    "    #print('data_inside_202110' + str(i))\n",
    "    for path, currentDirectory, files in os.walk(\"../WI3_BusinessIntelligence_Data/\"):\n",
    "        for file in files:\n",
    "            if file.startswith(\"data_inside_\" + str(year) + str(month) + str(day)):\n",
    "                #print(file)\n",
    "                globals()[f'unpickled_df_{day}']= pd.read_pickle(\"../WI3_BusinessIntelligence_Data/\" + str(file))\n",
    "    day+=1"
   ]
  },
  {
   "cell_type": "code",
   "execution_count": null,
   "metadata": {
    "ExecuteTime": {
     "end_time": "2021-11-13T17:20:22.030833Z",
     "start_time": "2021-11-13T17:20:22.022911Z"
    }
   },
   "outputs": [],
   "source": [
    "unpickled_df_15"
   ]
  },
  {
   "cell_type": "code",
   "execution_count": null,
   "metadata": {
    "ExecuteTime": {
     "end_time": "2021-11-14T16:16:46.824342Z",
     "start_time": "2021-11-14T16:16:46.810130Z"
    }
   },
   "outputs": [],
   "source": [
    "## Save path of pickles into array\n",
    "\n",
    "day = 12 \n",
    "year = 2021\n",
    "month = 10\n",
    "\n",
    "data_inside = []\n",
    "data_outside = []\n",
    "\n",
    "while day < 31:\n",
    "    #print('data_inside_202110' + str(i))\n",
    "    for path, currentDirectory, files in os.walk(\"../WI3_BusinessIntelligence_Data/\"):\n",
    "        for file in files:\n",
    "            if file.startswith(\"data_inside_\" + str(year) + str(month) + str(day)):\n",
    "                data_inside.append(path + file)\n",
    "            elif file.startswith(\"data_outside_\" + str(year) + str(month) + str(day)):\n",
    "                data_outside.append(path + file)\n",
    "    day+=1\n",
    "    \n",
    "data = data_inside, data_outside\n",
    "data"
   ]
  },
  {
   "cell_type": "code",
   "execution_count": null,
   "metadata": {
    "ExecuteTime": {
     "end_time": "2021-11-13T17:05:22.116199Z",
     "start_time": "2021-11-13T17:05:22.076681Z"
    }
   },
   "outputs": [],
   "source": [
    "#Frequenzes\n",
    "\n",
    "frequenz_m = 2100\n",
    "\n",
    "timer_array = unpickled_df['timer']\n",
    "frequenz_n = unpickled_df['timer'].size / (timer_array[- 1] / 1000)\n",
    "\n",
    "print('frequenz n', frequenz_n, 'frequenz m:', frequenz_m)"
   ]
  },
  {
   "cell_type": "code",
   "execution_count": null,
   "metadata": {
    "ExecuteTime": {
     "end_time": "2021-11-13T17:05:24.899478Z",
     "start_time": "2021-11-13T17:05:24.894196Z"
    }
   },
   "outputs": [],
   "source": [
    "#Steps\n",
    "\n",
    "step_m = frequenz_m / 20\n",
    "step_n = frequenz_n // 20\n",
    "\n",
    "print('step n:', step_n, 'step m', step_m)"
   ]
  },
  {
   "cell_type": "code",
   "execution_count": null,
   "metadata": {
    "ExecuteTime": {
     "end_time": "2021-11-13T17:08:03.287243Z",
     "start_time": "2021-11-13T17:08:03.254128Z"
    }
   },
   "outputs": [],
   "source": [
    "#Split m-Sensor (audio)\n",
    "\n",
    "split_m = np.array_split(unpickled_df['audio'], step_m)\n",
    "\n",
    "print(split_m, len(split_m[0]), len(split_m[1]), len(split_m[104]))\n",
    "print(np.amax(split_m[27]))"
   ]
  },
  {
   "cell_type": "code",
   "execution_count": null,
   "metadata": {
    "ExecuteTime": {
     "end_time": "2021-11-13T17:06:04.733997Z",
     "start_time": "2021-11-13T17:06:04.696885Z"
    }
   },
   "outputs": [],
   "source": [
    "#Split n-Sensors (accelerometer, magentometer, timer?)\n",
    "\n",
    "split_n = np.array_split(unpickled_df['accelerometer_x'], step_n)\n",
    "\n",
    "print(split_n, len(split_n[0]), len(split_n[1]), len(split_n[101]))\n",
    "print(np.amax(split_n[0]))"
   ]
  },
  {
   "cell_type": "code",
   "execution_count": null,
   "metadata": {},
   "outputs": [],
   "source": []
  },
  {
   "cell_type": "code",
   "execution_count": 3,
   "metadata": {
    "ExecuteTime": {
     "end_time": "2021-11-21T18:07:08.195024Z",
     "start_time": "2021-11-21T18:07:07.637800Z"
    }
   },
   "outputs": [
    {
     "name": "stdout",
     "output_type": "stream",
     "text": [
      "{'accelerometer_x': array([-7.0703125, -7.080078 , -7.080078 , ..., -6.923828 , -6.923828 ,\n",
      "       -7.006836 ], dtype=float32), 'accelerometer_y': array([6.977539 , 7.03125  , 7.03125  , ..., 6.772461 , 6.772461 ,\n",
      "       6.8066406], dtype=float32), 'accelerometer_z': array([0.6982422 , 0.6738281 , 0.6738281 , ..., 0.80078125, 0.80078125,\n",
      "       0.7324219 ], dtype=float32), 'magnetometer_x': array([-43062500., -43062500., -46375000., ..., -51375000., -51375000.,\n",
      "       -51375000.], dtype=float32), 'magnetometer_y': array([5562500., 5562500., 6312500., ..., 3000000., 3000000., 3000000.],\n",
      "      dtype=float32), 'magnetometer_z': array([15125000., 15125000., 12375000., ..., -4000000., -4000000.,\n",
      "       -4000000.], dtype=float32), 'audio': array([0.00415039, 0.00384521, 0.00552368, ..., 0.01556396, 0.00906372,\n",
      "       0.01794434], dtype=float32), 'timer': array([       0,        0,        0, ..., 28739242, 28739243, 28739243],\n",
      "      dtype=uint32)} 28739243\n"
     ]
    }
   ],
   "source": [
    "unpickled_df = pd.read_pickle(\"../WI3_BusinessIntelligence_Data/data_inside_20211017_160006.pkl\")\n",
    "\n",
    "print(unpickled_df, unpickled_df['timer'].max())"
   ]
  },
  {
   "cell_type": "code",
   "execution_count": 4,
   "metadata": {
    "ExecuteTime": {
     "end_time": "2021-11-21T18:07:11.047795Z",
     "start_time": "2021-11-21T18:07:10.652963Z"
    }
   },
   "outputs": [
    {
     "data": {
      "text/html": [
       "<div>\n",
       "<style scoped>\n",
       "    .dataframe tbody tr th:only-of-type {\n",
       "        vertical-align: middle;\n",
       "    }\n",
       "\n",
       "    .dataframe tbody tr th {\n",
       "        vertical-align: top;\n",
       "    }\n",
       "\n",
       "    .dataframe thead th {\n",
       "        text-align: right;\n",
       "    }\n",
       "</style>\n",
       "<table border=\"1\" class=\"dataframe\">\n",
       "  <thead>\n",
       "    <tr style=\"text-align: right;\">\n",
       "      <th></th>\n",
       "      <th>accelerometer_x</th>\n",
       "      <th>accelerometer_y</th>\n",
       "      <th>accelerometer_z</th>\n",
       "      <th>magnetometer_x</th>\n",
       "      <th>magnetometer_y</th>\n",
       "      <th>magnetometer_z</th>\n",
       "      <th>timer</th>\n",
       "    </tr>\n",
       "  </thead>\n",
       "  <tbody>\n",
       "    <tr>\n",
       "      <th>0</th>\n",
       "      <td>-7.070312</td>\n",
       "      <td>6.977539</td>\n",
       "      <td>0.698242</td>\n",
       "      <td>-43062500.0</td>\n",
       "      <td>5562500.0</td>\n",
       "      <td>15125000.0</td>\n",
       "      <td>0</td>\n",
       "    </tr>\n",
       "    <tr>\n",
       "      <th>1</th>\n",
       "      <td>-7.080078</td>\n",
       "      <td>7.031250</td>\n",
       "      <td>0.673828</td>\n",
       "      <td>-43062500.0</td>\n",
       "      <td>5562500.0</td>\n",
       "      <td>15125000.0</td>\n",
       "      <td>0</td>\n",
       "    </tr>\n",
       "    <tr>\n",
       "      <th>2</th>\n",
       "      <td>-7.080078</td>\n",
       "      <td>7.031250</td>\n",
       "      <td>0.673828</td>\n",
       "      <td>-46375000.0</td>\n",
       "      <td>6312500.0</td>\n",
       "      <td>12375000.0</td>\n",
       "      <td>0</td>\n",
       "    </tr>\n",
       "    <tr>\n",
       "      <th>3</th>\n",
       "      <td>-7.094727</td>\n",
       "      <td>7.031250</td>\n",
       "      <td>0.717773</td>\n",
       "      <td>-46375000.0</td>\n",
       "      <td>6312500.0</td>\n",
       "      <td>12375000.0</td>\n",
       "      <td>2</td>\n",
       "    </tr>\n",
       "    <tr>\n",
       "      <th>4</th>\n",
       "      <td>-7.094727</td>\n",
       "      <td>7.031250</td>\n",
       "      <td>0.717773</td>\n",
       "      <td>-46375000.0</td>\n",
       "      <td>6312500.0</td>\n",
       "      <td>12375000.0</td>\n",
       "      <td>2</td>\n",
       "    </tr>\n",
       "    <tr>\n",
       "      <th>...</th>\n",
       "      <td>...</td>\n",
       "      <td>...</td>\n",
       "      <td>...</td>\n",
       "      <td>...</td>\n",
       "      <td>...</td>\n",
       "      <td>...</td>\n",
       "      <td>...</td>\n",
       "    </tr>\n",
       "    <tr>\n",
       "      <th>59198114</th>\n",
       "      <td>-7.143555</td>\n",
       "      <td>6.884766</td>\n",
       "      <td>0.673828</td>\n",
       "      <td>-51375000.0</td>\n",
       "      <td>3375000.0</td>\n",
       "      <td>-375000.0</td>\n",
       "      <td>28739240</td>\n",
       "    </tr>\n",
       "    <tr>\n",
       "      <th>59198115</th>\n",
       "      <td>-7.280273</td>\n",
       "      <td>7.221680</td>\n",
       "      <td>0.805664</td>\n",
       "      <td>-51375000.0</td>\n",
       "      <td>3000000.0</td>\n",
       "      <td>-4000000.0</td>\n",
       "      <td>28739241</td>\n",
       "    </tr>\n",
       "    <tr>\n",
       "      <th>59198116</th>\n",
       "      <td>-6.923828</td>\n",
       "      <td>6.772461</td>\n",
       "      <td>0.800781</td>\n",
       "      <td>-51375000.0</td>\n",
       "      <td>3000000.0</td>\n",
       "      <td>-4000000.0</td>\n",
       "      <td>28739242</td>\n",
       "    </tr>\n",
       "    <tr>\n",
       "      <th>59198117</th>\n",
       "      <td>-6.923828</td>\n",
       "      <td>6.772461</td>\n",
       "      <td>0.800781</td>\n",
       "      <td>-51375000.0</td>\n",
       "      <td>3000000.0</td>\n",
       "      <td>-4000000.0</td>\n",
       "      <td>28739243</td>\n",
       "    </tr>\n",
       "    <tr>\n",
       "      <th>59198118</th>\n",
       "      <td>-7.006836</td>\n",
       "      <td>6.806641</td>\n",
       "      <td>0.732422</td>\n",
       "      <td>-51375000.0</td>\n",
       "      <td>3000000.0</td>\n",
       "      <td>-4000000.0</td>\n",
       "      <td>28739243</td>\n",
       "    </tr>\n",
       "  </tbody>\n",
       "</table>\n",
       "<p>59198119 rows × 7 columns</p>\n",
       "</div>"
      ],
      "text/plain": [
       "          accelerometer_x  accelerometer_y  accelerometer_z  magnetometer_x  \\\n",
       "0               -7.070312         6.977539         0.698242     -43062500.0   \n",
       "1               -7.080078         7.031250         0.673828     -43062500.0   \n",
       "2               -7.080078         7.031250         0.673828     -46375000.0   \n",
       "3               -7.094727         7.031250         0.717773     -46375000.0   \n",
       "4               -7.094727         7.031250         0.717773     -46375000.0   \n",
       "...                   ...              ...              ...             ...   \n",
       "59198114        -7.143555         6.884766         0.673828     -51375000.0   \n",
       "59198115        -7.280273         7.221680         0.805664     -51375000.0   \n",
       "59198116        -6.923828         6.772461         0.800781     -51375000.0   \n",
       "59198117        -6.923828         6.772461         0.800781     -51375000.0   \n",
       "59198118        -7.006836         6.806641         0.732422     -51375000.0   \n",
       "\n",
       "          magnetometer_y  magnetometer_z     timer  \n",
       "0              5562500.0      15125000.0         0  \n",
       "1              5562500.0      15125000.0         0  \n",
       "2              6312500.0      12375000.0         0  \n",
       "3              6312500.0      12375000.0         2  \n",
       "4              6312500.0      12375000.0         2  \n",
       "...                  ...             ...       ...  \n",
       "59198114       3375000.0       -375000.0  28739240  \n",
       "59198115       3000000.0      -4000000.0  28739241  \n",
       "59198116       3000000.0      -4000000.0  28739242  \n",
       "59198117       3000000.0      -4000000.0  28739243  \n",
       "59198118       3000000.0      -4000000.0  28739243  \n",
       "\n",
       "[59198119 rows x 7 columns]"
      ]
     },
     "execution_count": 4,
     "metadata": {},
     "output_type": "execute_result"
    }
   ],
   "source": [
    "dict_no_audio = {}\n",
    "for k in unpickled_df.keys():\n",
    "    if k != 'audio':\n",
    "        dict_no_audio[k] = unpickled_df[k]\n",
    "\n",
    "df_no_audio = pd.DataFrame(dict_no_audio)\n",
    "df_no_audio"
   ]
  },
  {
   "cell_type": "code",
   "execution_count": 5,
   "metadata": {
    "ExecuteTime": {
     "end_time": "2021-11-21T18:09:04.222417Z",
     "start_time": "2021-11-21T18:09:04.110809Z"
    }
   },
   "outputs": [
    {
     "name": "stdout",
     "output_type": "stream",
     "text": [
      "[      49       99      149 ... 28739099 28739149 28739199] 574784\n"
     ]
    }
   ],
   "source": [
    "# range von timer values an denen aufgeteilt werden muss\n",
    "# enthält immer die letzte ms die in einem Step sein soll\n",
    "val_range = np.array(range(49,unpickled_df['timer'].max(),50))\n",
    "print(val_range, val_range.size)"
   ]
  },
  {
   "cell_type": "code",
   "execution_count": 6,
   "metadata": {
    "ExecuteTime": {
     "end_time": "2021-11-21T23:55:23.939464Z",
     "start_time": "2021-11-21T18:09:15.542932Z"
    }
   },
   "outputs": [
    {
     "ename": "KeyboardInterrupt",
     "evalue": "",
     "output_type": "error",
     "traceback": [
      "\u001b[0;31m---------------------------------------------------------------------------\u001b[0m",
      "\u001b[0;31mKeyboardInterrupt\u001b[0m                         Traceback (most recent call last)",
      "\u001b[0;32m/tmp/user/1019/ipykernel_5182/338366897.py\u001b[0m in \u001b[0;36m<module>\u001b[0;34m\u001b[0m\n\u001b[1;32m      3\u001b[0m \u001b[0mi\u001b[0m \u001b[0;34m=\u001b[0m \u001b[0;36m0\u001b[0m\u001b[0;34m\u001b[0m\u001b[0;34m\u001b[0m\u001b[0m\n\u001b[1;32m      4\u001b[0m \u001b[0;32mfor\u001b[0m \u001b[0mms\u001b[0m \u001b[0;32min\u001b[0m \u001b[0mval_range\u001b[0m\u001b[0;34m:\u001b[0m\u001b[0;34m\u001b[0m\u001b[0;34m\u001b[0m\u001b[0m\n\u001b[0;32m----> 5\u001b[0;31m     \u001b[0mi_split_arr\u001b[0m\u001b[0;34m.\u001b[0m\u001b[0mappend\u001b[0m\u001b[0;34m(\u001b[0m\u001b[0mdf_no_audio\u001b[0m\u001b[0;34m.\u001b[0m\u001b[0mtimer\u001b[0m\u001b[0;34m.\u001b[0m\u001b[0mvalues\u001b[0m\u001b[0;34m.\u001b[0m\u001b[0msearchsorted\u001b[0m\u001b[0;34m(\u001b[0m\u001b[0mms\u001b[0m\u001b[0;34m,\u001b[0m \u001b[0mside\u001b[0m\u001b[0;34m=\u001b[0m\u001b[0;34m'right'\u001b[0m\u001b[0;34m)\u001b[0m\u001b[0;34m)\u001b[0m\u001b[0;34m\u001b[0m\u001b[0;34m\u001b[0m\u001b[0m\n\u001b[0m\u001b[1;32m      6\u001b[0m \u001b[0;31m#print(i_split_arr)\u001b[0m\u001b[0;34m\u001b[0m\u001b[0;34m\u001b[0m\u001b[0;34m\u001b[0m\u001b[0m\n",
      "\u001b[0;31mKeyboardInterrupt\u001b[0m: "
     ]
    }
   ],
   "source": [
    "# für jede ms in val_range den index der folgenden ms bestimmen (dieser index wird in der split funktion später gebraucht)\n",
    "i_split_arr = []\n",
    "i = 0\n",
    "for ms in val_range:\n",
    "    i_split_arr.append(df_no_audio.timer.values.searchsorted(ms, side='right'))\n",
    "#print(i_split_arr)"
   ]
  },
  {
   "cell_type": "code",
   "execution_count": 7,
   "metadata": {
    "ExecuteTime": {
     "end_time": "2021-11-21T23:55:29.113406Z",
     "start_time": "2021-11-21T23:55:29.108165Z"
    }
   },
   "outputs": [
    {
     "name": "stdout",
     "output_type": "stream",
     "text": [
      "224156\n"
     ]
    }
   ],
   "source": [
    "print(len(i_split_arr))"
   ]
  },
  {
   "cell_type": "code",
   "execution_count": 2,
   "metadata": {
    "ExecuteTime": {
     "end_time": "2021-11-22T20:45:54.747766Z",
     "start_time": "2021-11-22T20:45:54.735258Z"
    }
   },
   "outputs": [
    {
     "ename": "NameError",
     "evalue": "name 'unpickled_df' is not defined",
     "output_type": "error",
     "traceback": [
      "\u001b[0;31m---------------------------------------------------------------------------\u001b[0m",
      "\u001b[0;31mNameError\u001b[0m                                 Traceback (most recent call last)",
      "\u001b[0;32m/tmp/user/1019/ipykernel_25549/3250117414.py\u001b[0m in \u001b[0;36m<module>\u001b[0;34m\u001b[0m\n\u001b[1;32m      1\u001b[0m \u001b[0;32mfrom\u001b[0m \u001b[0mnumpy\u001b[0m\u001b[0;34m.\u001b[0m\u001b[0mlinalg\u001b[0m \u001b[0;32mimport\u001b[0m \u001b[0mmulti_dot\u001b[0m\u001b[0;34m\u001b[0m\u001b[0;34m\u001b[0m\u001b[0m\n\u001b[1;32m      2\u001b[0m \u001b[0;34m\u001b[0m\u001b[0m\n\u001b[0;32m----> 3\u001b[0;31m \u001b[0mx0\u001b[0m \u001b[0;34m=\u001b[0m \u001b[0munpickled_df\u001b[0m\u001b[0;34m[\u001b[0m\u001b[0;34m'accelerometer_x'\u001b[0m\u001b[0;34m]\u001b[0m\u001b[0;34m[\u001b[0m\u001b[0;36m0\u001b[0m\u001b[0;34m]\u001b[0m\u001b[0;34m\u001b[0m\u001b[0;34m\u001b[0m\u001b[0m\n\u001b[0m\u001b[1;32m      4\u001b[0m \u001b[0my0\u001b[0m \u001b[0;34m=\u001b[0m \u001b[0munpickled_df\u001b[0m\u001b[0;34m[\u001b[0m\u001b[0;34m'accelerometer_y'\u001b[0m\u001b[0;34m]\u001b[0m\u001b[0;34m[\u001b[0m\u001b[0;36m0\u001b[0m\u001b[0;34m]\u001b[0m\u001b[0;34m\u001b[0m\u001b[0;34m\u001b[0m\u001b[0m\n\u001b[1;32m      5\u001b[0m \u001b[0mz0\u001b[0m \u001b[0;34m=\u001b[0m \u001b[0munpickled_df\u001b[0m\u001b[0;34m[\u001b[0m\u001b[0;34m'accelerometer_z'\u001b[0m\u001b[0;34m]\u001b[0m\u001b[0;34m[\u001b[0m\u001b[0;36m0\u001b[0m\u001b[0;34m]\u001b[0m\u001b[0;34m\u001b[0m\u001b[0;34m\u001b[0m\u001b[0m\n",
      "\u001b[0;31mNameError\u001b[0m: name 'unpickled_df' is not defined"
     ]
    }
   ],
   "source": [
    "from numpy.linalg import multi_dot\n",
    "\n",
    "x0 = unpickled_df['accelerometer_x'][0]\n",
    "y0 = unpickled_df['accelerometer_y'][0]\n",
    "z0 = unpickled_df['accelerometer_z'][0]\n",
    "\n",
    "print(x0, y0, z0)\n",
    "\n",
    "xy_dot = np.dot(x0, y0)\n",
    "xyz_dot = np.dot(xy_dot, z0)\n",
    "print(xyz_dot)"
   ]
  },
  {
   "cell_type": "code",
   "execution_count": null,
   "metadata": {},
   "outputs": [],
   "source": []
  }
 ],
 "metadata": {
  "kernelspec": {
   "display_name": "Python 3 (ipykernel)",
   "language": "python",
   "name": "python3"
  },
  "language_info": {
   "codemirror_mode": {
    "name": "ipython",
    "version": 3
   },
   "file_extension": ".py",
   "mimetype": "text/x-python",
   "name": "python",
   "nbconvert_exporter": "python",
   "pygments_lexer": "ipython3",
   "version": "3.8.12"
  }
 },
 "nbformat": 4,
 "nbformat_minor": 2
}
