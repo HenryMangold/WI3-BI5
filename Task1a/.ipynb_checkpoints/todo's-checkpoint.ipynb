{
 "cells": [
  {
   "cell_type": "markdown",
   "metadata": {},
   "source": [
    "# TO DO's #"
   ]
  },
  {
   "cell_type": "markdown",
   "metadata": {
    "ExecuteTime": {
     "end_time": "2021-11-28T14:55:31.790758Z",
     "start_time": "2021-11-28T14:55:31.772434Z"
    }
   },
   "source": [
    "<ul>\n",
    "    <b> Smooting/Aggregation </b><br/>\n",
    "    <input type=\"checkbox\" checked> Read in sensor file <br/>\n",
    "    <input type=\"checkbox\" checked> Data & Task Exploration <br/>\n",
    "    <input type=\"checkbox\" checked> Aggregate sensor records to 20Hz <br/>\n",
    "    <input type=\"checkbox\"> ... <br/>\n",
    "    <input type=\"checkbox\"> Export as csv <br/>\n",
    "    <input type=\"checkbox\"> Process automation through all sensor files and with functions <br/>\n",
    "    <br/>\n",
    "    <b> Time synchronisation between files </b><br/>\n",
    "    <input type=\"checkbox\"> Read in the two excel-Files <br/>\n",
    "    <input type=\"checkbox\"> Data & Task Exploration <br/>\n",
    "    <input type=\"checkbox\"> Convert the timestamp formats to a single one <br/>\n",
    "    <input type=\"checkbox\"> Merge all three files to one <br/>\n",
    "    <input type=\"checkbox\"> Export as csv? <br/>\n",
    "    <input type=\"checkbox\"> ... <br/>\n",
    "    <br/>\n",
    "    <b> Recognition </b><br/>\n",
    "    <input type=\"checkbox\"> Data & Task Exploration <br/>\n",
    "    <input type=\"checkbox\"> Cycle <br/>\n",
    "    <input type=\"checkbox\"> Shift <br/>\n",
    "</ul>"
   ]
  },
  {
   "cell_type": "code",
   "execution_count": null,
   "metadata": {},
   "outputs": [],
   "source": []
  }
 ],
 "metadata": {
  "kernelspec": {
   "display_name": "Python 3 (ipykernel)",
   "language": "python",
   "name": "python3"
  },
  "language_info": {
   "codemirror_mode": {
    "name": "ipython",
    "version": 3
   },
   "file_extension": ".py",
   "mimetype": "text/x-python",
   "name": "python",
   "nbconvert_exporter": "python",
   "pygments_lexer": "ipython3",
   "version": "3.8.12"
  }
 },
 "nbformat": 4,
 "nbformat_minor": 2
}
