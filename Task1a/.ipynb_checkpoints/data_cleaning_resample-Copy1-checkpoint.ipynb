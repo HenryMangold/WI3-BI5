{
 "cells": [
  {
   "cell_type": "markdown",
   "metadata": {},
   "source": [
    "<h1>Import Libraries</h1>"
   ]
  },
  {
   "cell_type": "code",
   "execution_count": 1,
   "metadata": {
    "ExecuteTime": {
     "end_time": "2021-11-29T22:18:01.205586Z",
     "start_time": "2021-11-29T22:18:00.921994Z"
    }
   },
   "outputs": [],
   "source": [
    "import numpy as np\n",
    "import pandas as pd\n",
    "import os\n",
    "import datetime\n",
    "import time\n",
    "import re"
   ]
  },
  {
   "cell_type": "markdown",
   "metadata": {},
   "source": [
    "<h1>Define functions for pipeline</h1>\n",
    "<h2>Find start timestamp</h2>"
   ]
  },
  {
   "cell_type": "code",
   "execution_count": 2,
   "metadata": {
    "ExecuteTime": {
     "end_time": "2021-11-29T22:18:01.211521Z",
     "start_time": "2021-11-29T22:18:01.207315Z"
    }
   },
   "outputs": [],
   "source": [
    "def find_start_date(filename=str):\n",
    "    match = re.search(r'\\d{4}\\d{2}\\d{2}_\\d{2}\\d{2}\\d{2}', filename)\n",
    "    date = datetime.datetime.strptime(match.group(), '%Y%m%d_%H%M%S')\n",
    "    return date"
   ]
  },
  {
   "cell_type": "markdown",
   "metadata": {},
   "source": [
    "<h2>seperate audio and create dataframes</h2>"
   ]
  },
  {
   "cell_type": "code",
   "execution_count": 3,
   "metadata": {
    "ExecuteTime": {
     "end_time": "2021-11-29T22:18:01.251396Z",
     "start_time": "2021-11-29T22:18:01.212502Z"
    }
   },
   "outputs": [],
   "source": [
    "def create_dataframes(unpickled, start_time):\n",
    "    # create dataframe without audio records\n",
    "    dict_no_audio = {}\n",
    "    for k in unpickled.keys():\n",
    "        if k != 'audio':\n",
    "            dict_no_audio[k] = unpickled[k]\n",
    "\n",
    "    #################### für 1h example ########################\n",
    "    #dict_no_audio['timer'] = np.append(dict_no_audio['timer'], 3599906)\n",
    "    ############################################################\n",
    "        \n",
    "    df_sensor = pd.DataFrame(dict_no_audio)\n",
    "    # change timer to datetime and make it index of the dataframe\n",
    "    df_sensor['timer'] = pd.to_timedelta(df_sensor.timer, unit='ms')\n",
    "    df_sensor['ms_delta'] = df_sensor['timer']\n",
    "    \n",
    "    #df_sensor['datetime'] = df_sensor.apply(lambda row: start_time + datetime.timedelta(milliseconds = row.timer), axis = 1)\n",
    "    #df_sensor.drop(columns = ['timer'], inplace = True)\n",
    "    #df_sensor.set_index('datetime', inplace = True)\n",
    "    \n",
    "    # create Data Frame with audio records\n",
    "    df_audio = pd.DataFrame(unpickled['audio'])\n",
    "    df_audio.rename(columns={0: \"audio\"}, inplace = True)\n",
    "    # create date range\n",
    "    df_audio['datetime'] = pd.date_range(start_time, start_time+df_sensor.timer.max(), periods = len(df_audio.index))\n",
    "    \n",
    "    # set date range as index\n",
    "    df_sensor.set_index('timer', inplace = True)\n",
    "    df_audio.set_index('datetime', inplace = True)\n",
    "    \n",
    "\n",
    "    return df_sensor, df_audio"
   ]
  },
  {
   "cell_type": "markdown",
   "metadata": {},
   "source": [
    "<h2>Normalized accelerometer/magnetometer</h2>"
   ]
  },
  {
   "cell_type": "code",
   "execution_count": 4,
   "metadata": {
    "ExecuteTime": {
     "end_time": "2021-11-29T22:18:01.282865Z",
     "start_time": "2021-11-29T22:18:01.253242Z"
    }
   },
   "outputs": [],
   "source": [
    "def add_normalized_sensors(df_sensor):\n",
    "    # calculate vektor length of sensors\n",
    "    df_sensor['accelerometer'] = (df_sensor['accelerometer_x']**2 + df_sensor['accelerometer_y']**2 + df_sensor['accelerometer_z']**2)**0.5\n",
    "    df_sensor['magnetometer'] = (df_sensor['magnetometer_x']**2 + df_sensor['magnetometer_y']**2 + df_sensor['magnetometer_z']**2)**0.5\n",
    "    return df_sensor"
   ]
  },
  {
   "cell_type": "markdown",
   "metadata": {},
   "source": [
    "<h2>Split and claculate values for 20 Hz</h2>"
   ]
  },
  {
   "cell_type": "code",
   "execution_count": 5,
   "metadata": {
    "ExecuteTime": {
     "end_time": "2021-11-29T22:18:01.322325Z",
     "start_time": "2021-11-29T22:18:01.285495Z"
    },
    "scrolled": true
   },
   "outputs": [],
   "source": [
    "def resampling(df_sensor, df_audio, start_time):\n",
    "    df_agg = pd.DataFrame()\n",
    "    r_sensor = df_sensor.resample('50ms')\n",
    "    r_audio = df_audio.resample('50ms')\n",
    "    for variable in df_sensor.columns:\n",
    "        if \"accelerometer\" in variable:\n",
    "            # werte für das resample objekt berechnen\n",
    "            # maximum\n",
    "            df_agg[variable+'_max'] = r_sensor[variable].max()\n",
    "            # 95% quantile\n",
    "            df_agg[variable+'_95q'] = r_sensor[variable].quantile(0.95)\n",
    "            # minimum\n",
    "            df_agg[variable+'_min'] = r_sensor[variable].min()\n",
    "            # 5% quantile\n",
    "            df_agg[variable+'_05q'] = r_sensor[variable].quantile(0.05)\n",
    "\n",
    "        elif \"magnetometer\" in variable:\n",
    "            # werte für das resample objekt berechnen\n",
    "            # mean\n",
    "            df_agg[variable+'_mean'] = r_sensor[variable].mean()\n",
    "            # median\n",
    "            df_agg[variable+'_med'] = r_sensor[variable].median()\n",
    "            \n",
    "    df_agg['datetime'] = pd.date_range(start_time, start_time+df_sensor.ms_delta.max(), freq = '50ms')\n",
    "    df_agg.set_index('datetime', inplace = True)\n",
    "\n",
    "    for variable in df_audio.columns:\n",
    "        if \"audio\" in variable:\n",
    "            # werte für das resample objekt berechnen\n",
    "            # maximum\n",
    "            df_agg[variable+'_max'] = r_audio[variable].max()\n",
    "\n",
    "            # 95% quantile\n",
    "            df_agg[variable+'_95q'] = r_audio[variable].quantile(0.95)\n",
    "\n",
    "            \n",
    "    return df_agg"
   ]
  },
  {
   "cell_type": "markdown",
   "metadata": {},
   "source": [
    "<h1>Find files in directory and start smoothing pipeline</h1>"
   ]
  },
  {
   "cell_type": "code",
   "execution_count": 8,
   "metadata": {
    "ExecuteTime": {
     "end_time": "2021-11-29T22:24:03.595869Z",
     "start_time": "2021-11-29T22:21:46.209373Z"
    },
    "scrolled": true
   },
   "outputs": [
    {
     "name": "stdout",
     "output_type": "stream",
     "text": [
      "read file,  0.45586228370666504 seconds\n",
      "found starttime,  0.45676684379577637 seconds\n",
      "dataframes created,  9.474449872970581 seconds\n",
      "added normalized sensors,  10.244431257247925 seconds\n",
      "aggregation,  137.38002467155457 seconds\n",
      "executed \" ../Data/data_inside_20211017_160006.pkl \" in 137.38017439842224 seconds\n"
     ]
    }
   ],
   "source": [
    "path = '../Data/'\n",
    "filename = 'data_inside_20211017_160006.pkl'\n",
    "\n",
    "# test for one file\n",
    "time_s = time.time()\n",
    "\n",
    "unpickled = pd.read_pickle(path+filename)\n",
    "print('read file, ', '%s seconds' % (time.time() - time_s))\n",
    "\n",
    "# find starting time of recording\n",
    "start_time = find_start_date(filename)\n",
    "print('found starttime, ', '%s seconds' % (time.time() - time_s))\n",
    "\n",
    "# create data frames for sensors and audio with timer as index\n",
    "df_sensor, df_audio = create_dataframes(unpickled, start_time)\n",
    "print('dataframes created, ', '%s seconds' % (time.time() - time_s))\n",
    "\n",
    "# add vektor length for sensors as variable\n",
    "df_sensor = add_normalized_sensors(df_sensor)\n",
    "print('added normalized sensors, ', '%s seconds' % (time.time() - time_s))\n",
    "\n",
    "# resample to 20 Hz\n",
    "df_agg = resampling(df_sensor, df_audio, start_time)\n",
    "print('aggregation, ', '%s seconds' % (time.time() - time_s))\n",
    "\n",
    "# write to csv file\n",
    "#save_to_csv(df_agg, inside=True)\n",
    "\n",
    "print('executed \"', path+filename, '\" in %s seconds' % (time.time() - time_s))\n"
   ]
  },
  {
   "cell_type": "code",
   "execution_count": null,
   "metadata": {
    "ExecuteTime": {
     "end_time": "2021-11-29T22:18:01.432363Z",
     "start_time": "2021-11-29T22:18:01.432349Z"
    }
   },
   "outputs": [],
   "source": [
    "df_agg"
   ]
  },
  {
   "cell_type": "code",
   "execution_count": null,
   "metadata": {
    "ExecuteTime": {
     "end_time": "2021-11-29T22:18:01.433278Z",
     "start_time": "2021-11-29T22:18:01.433265Z"
    }
   },
   "outputs": [],
   "source": [
    "df_audio"
   ]
  }
 ],
 "metadata": {
  "kernelspec": {
   "display_name": "Python 3 (ipykernel)",
   "language": "python",
   "name": "python3"
  },
  "language_info": {
   "codemirror_mode": {
    "name": "ipython",
    "version": 3
   },
   "file_extension": ".py",
   "mimetype": "text/x-python",
   "name": "python",
   "nbconvert_exporter": "python",
   "pygments_lexer": "ipython3",
   "version": "3.8.12"
  }
 },
 "nbformat": 4,
 "nbformat_minor": 2
}
