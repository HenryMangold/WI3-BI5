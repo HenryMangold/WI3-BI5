{
 "cells": [
  {
   "cell_type": "code",
   "execution_count": 1,
   "metadata": {
    "ExecuteTime": {
     "end_time": "2021-11-22T10:30:30.608277Z",
     "start_time": "2021-11-22T10:30:30.356977Z"
    }
   },
   "outputs": [],
   "source": [
    "import numpy as np\n",
    "import pandas as pd\n",
    "import os"
   ]
  },
  {
   "cell_type": "markdown",
   "metadata": {},
   "source": [
    "<h1>Daten Einlesen</h1>"
   ]
  },
  {
   "cell_type": "code",
   "execution_count": 2,
   "metadata": {
    "ExecuteTime": {
     "end_time": "2021-11-22T10:30:30.688787Z",
     "start_time": "2021-11-22T10:30:30.610045Z"
    },
    "scrolled": false
   },
   "outputs": [
    {
     "name": "stdout",
     "output_type": "stream",
     "text": [
      "{'accelerometer_x': array([-7.0458984, -7.0458984, -7.0654297, ..., -7.104492 , -7.104492 ,\n",
      "       -7.060547 ], dtype=float32), 'accelerometer_y': array([6.9628906, 6.9628906, 6.982422 , ..., 6.9433594, 6.9433594,\n",
      "       6.8896484], dtype=float32), 'accelerometer_z': array([0.7324219 , 0.7324219 , 0.7763672 , ..., 0.7910156 , 0.7910156 ,\n",
      "       0.80078125], dtype=float32), 'magnetometer_x': array([-52250000., -54125000., -54125000., ..., -53437500., -54187500.,\n",
      "       -54187500.], dtype=float32), 'magnetometer_y': array([4437500., -312500., -312500., ..., 1875000.,  750000.,  750000.],\n",
      "      dtype=float32), 'magnetometer_z': array([-7750000., -4250000., -4250000., ..., -5875000., -3875000.,\n",
      "       -3875000.], dtype=float32), 'audio': array([0.00689697, 0.00643921, 0.00540161, ..., 0.01193237, 0.01010132,\n",
      "       0.01739502], dtype=float32), 'timer': array([      0,       1,       2, ..., 3599905, 3599905, 3599906],\n",
      "      dtype=uint32)}\n"
     ]
    }
   ],
   "source": [
    "unpickled = pd.read_pickle(\"../WI3_BusinessIntelligence_Data/data_inside_20211010_160005_one_hour_example.pkl\")\n",
    "\n",
    "print(unpickled)"
   ]
  },
  {
   "cell_type": "code",
   "execution_count": 17,
   "metadata": {
    "ExecuteTime": {
     "end_time": "2021-11-22T10:57:17.911744Z",
     "start_time": "2021-11-22T10:57:17.895531Z"
    }
   },
   "outputs": [
    {
     "name": "stdout",
     "output_type": "stream",
     "text": [
      "3599906\n",
      "7415238\n"
     ]
    }
   ],
   "source": [
    "print(unpickled['timer'].max())\n",
    "print(unpickled['timer'].size)"
   ]
  },
  {
   "cell_type": "code",
   "execution_count": 4,
   "metadata": {
    "ExecuteTime": {
     "end_time": "2021-11-22T10:30:30.703300Z",
     "start_time": "2021-11-22T10:30:30.699021Z"
    }
   },
   "outputs": [
    {
     "name": "stdout",
     "output_type": "stream",
     "text": [
      "7560000\n"
     ]
    }
   ],
   "source": [
    "print(unpickled['audio'].size)"
   ]
  },
  {
   "cell_type": "markdown",
   "metadata": {},
   "source": [
    "<h1>Audio Step für Smoothing festlegen</h1>"
   ]
  },
  {
   "cell_type": "code",
   "execution_count": 5,
   "metadata": {
    "ExecuteTime": {
     "end_time": "2021-11-22T10:30:30.759876Z",
     "start_time": "2021-11-22T10:30:30.704458Z"
    }
   },
   "outputs": [
    {
     "name": "stdout",
     "output_type": "stream",
     "text": [
      "steps: 105\n"
     ]
    }
   ],
   "source": [
    "# to 20Hz\n",
    "# Calculation:   step  =  2100d/s  /  20Hz  =  105d/hz\n",
    "\n",
    "step = int(2100 / 20) \n",
    "\n",
    "print('steps:', step)"
   ]
  },
  {
   "cell_type": "markdown",
   "metadata": {},
   "source": [
    "<h1>In einem Dataframe zusammenfassen</h1>"
   ]
  },
  {
   "cell_type": "code",
   "execution_count": 6,
   "metadata": {
    "ExecuteTime": {
     "end_time": "2021-11-22T10:30:30.898892Z",
     "start_time": "2021-11-22T10:30:30.762141Z"
    }
   },
   "outputs": [
    {
     "name": "stdout",
     "output_type": "stream",
     "text": [
      "            audio         timer\n",
      "0        0.006897  0.000000e+00\n",
      "1        0.006439  4.761905e-01\n",
      "2        0.005402  9.523810e-01\n",
      "3        0.004669  1.428571e+00\n",
      "4        0.003265  1.904762e+00\n",
      "...           ...           ...\n",
      "7559800  0.006287  3.599905e+06\n",
      "7559801  0.018188  3.599905e+06\n",
      "7559802  0.013062  3.599906e+06\n",
      "7559803  0.007843  3.599906e+06\n",
      "7559804  0.006104  3.599907e+06\n",
      "\n",
      "[7559805 rows x 2 columns]\n",
      "            audio    timer\n",
      "0        0.006897        0\n",
      "1        0.006439        0\n",
      "2        0.005402        1\n",
      "3        0.004669        1\n",
      "4        0.003265        2\n",
      "...           ...      ...\n",
      "7559800  0.006287  3599905\n",
      "7559801  0.018188  3599905\n",
      "7559802  0.013062  3599906\n",
      "7559803  0.007843  3599906\n",
      "7559804  0.006104  3599907\n",
      "\n",
      "[7559805 rows x 2 columns]\n"
     ]
    }
   ],
   "source": [
    "# Ein Dataframe für Audio\n",
    "df_audio = pd.DataFrame(unpickled['audio'], columns=['audio'])\n",
    "df_audio = df_audio[:-195]\n",
    "# timer in Mikrosekunden\n",
    "df_audio['timer'] = np.array(np.arange(0,(unpickled['timer'].max()+1),(1000/2100)))\n",
    "print(df_audio)\n",
    "# timer auf ganzzahl runden\n",
    "df_audio['timer'] = df_audio['timer'].round().astype(int)\n",
    "print(df_audio)"
   ]
  },
  {
   "cell_type": "code",
   "execution_count": 7,
   "metadata": {
    "ExecuteTime": {
     "end_time": "2021-11-22T10:30:30.993109Z",
     "start_time": "2021-11-22T10:30:30.900396Z"
    }
   },
   "outputs": [
    {
     "name": "stdout",
     "output_type": "stream",
     "text": [
      "7415239  /  7415239  /  7415238\n",
      "after append:  7415239  /  7415239  /  7415239\n"
     ]
    },
    {
     "data": {
      "text/html": [
       "<div>\n",
       "<style scoped>\n",
       "    .dataframe tbody tr th:only-of-type {\n",
       "        vertical-align: middle;\n",
       "    }\n",
       "\n",
       "    .dataframe tbody tr th {\n",
       "        vertical-align: top;\n",
       "    }\n",
       "\n",
       "    .dataframe thead th {\n",
       "        text-align: right;\n",
       "    }\n",
       "</style>\n",
       "<table border=\"1\" class=\"dataframe\">\n",
       "  <thead>\n",
       "    <tr style=\"text-align: right;\">\n",
       "      <th></th>\n",
       "      <th>accelerometer_x</th>\n",
       "      <th>accelerometer_y</th>\n",
       "      <th>accelerometer_z</th>\n",
       "      <th>magnetometer_x</th>\n",
       "      <th>magnetometer_y</th>\n",
       "      <th>magnetometer_z</th>\n",
       "      <th>timer</th>\n",
       "    </tr>\n",
       "  </thead>\n",
       "  <tbody>\n",
       "    <tr>\n",
       "      <th>0</th>\n",
       "      <td>-7.045898</td>\n",
       "      <td>6.962891</td>\n",
       "      <td>0.732422</td>\n",
       "      <td>-52250000.0</td>\n",
       "      <td>4437500.0</td>\n",
       "      <td>-7750000.0</td>\n",
       "      <td>0</td>\n",
       "    </tr>\n",
       "    <tr>\n",
       "      <th>1</th>\n",
       "      <td>-7.045898</td>\n",
       "      <td>6.962891</td>\n",
       "      <td>0.732422</td>\n",
       "      <td>-54125000.0</td>\n",
       "      <td>-312500.0</td>\n",
       "      <td>-4250000.0</td>\n",
       "      <td>1</td>\n",
       "    </tr>\n",
       "    <tr>\n",
       "      <th>2</th>\n",
       "      <td>-7.065430</td>\n",
       "      <td>6.982422</td>\n",
       "      <td>0.776367</td>\n",
       "      <td>-54125000.0</td>\n",
       "      <td>-312500.0</td>\n",
       "      <td>-4250000.0</td>\n",
       "      <td>2</td>\n",
       "    </tr>\n",
       "    <tr>\n",
       "      <th>3</th>\n",
       "      <td>-7.104492</td>\n",
       "      <td>6.962891</td>\n",
       "      <td>0.776367</td>\n",
       "      <td>-54125000.0</td>\n",
       "      <td>-312500.0</td>\n",
       "      <td>-4250000.0</td>\n",
       "      <td>2</td>\n",
       "    </tr>\n",
       "    <tr>\n",
       "      <th>4</th>\n",
       "      <td>-7.104492</td>\n",
       "      <td>6.962891</td>\n",
       "      <td>0.776367</td>\n",
       "      <td>-54125000.0</td>\n",
       "      <td>-312500.0</td>\n",
       "      <td>-4250000.0</td>\n",
       "      <td>2</td>\n",
       "    </tr>\n",
       "    <tr>\n",
       "      <th>...</th>\n",
       "      <td>...</td>\n",
       "      <td>...</td>\n",
       "      <td>...</td>\n",
       "      <td>...</td>\n",
       "      <td>...</td>\n",
       "      <td>...</td>\n",
       "      <td>...</td>\n",
       "    </tr>\n",
       "    <tr>\n",
       "      <th>7415234</th>\n",
       "      <td>-7.109375</td>\n",
       "      <td>6.948242</td>\n",
       "      <td>0.815430</td>\n",
       "      <td>-53437500.0</td>\n",
       "      <td>1875000.0</td>\n",
       "      <td>-5875000.0</td>\n",
       "      <td>3599905</td>\n",
       "    </tr>\n",
       "    <tr>\n",
       "      <th>7415235</th>\n",
       "      <td>-7.109375</td>\n",
       "      <td>6.948242</td>\n",
       "      <td>0.815430</td>\n",
       "      <td>-53437500.0</td>\n",
       "      <td>1875000.0</td>\n",
       "      <td>-5875000.0</td>\n",
       "      <td>3599905</td>\n",
       "    </tr>\n",
       "    <tr>\n",
       "      <th>7415236</th>\n",
       "      <td>-7.104492</td>\n",
       "      <td>6.943359</td>\n",
       "      <td>0.791016</td>\n",
       "      <td>-53437500.0</td>\n",
       "      <td>1875000.0</td>\n",
       "      <td>-5875000.0</td>\n",
       "      <td>3599905</td>\n",
       "    </tr>\n",
       "    <tr>\n",
       "      <th>7415237</th>\n",
       "      <td>-7.104492</td>\n",
       "      <td>6.943359</td>\n",
       "      <td>0.791016</td>\n",
       "      <td>-54187500.0</td>\n",
       "      <td>750000.0</td>\n",
       "      <td>-3875000.0</td>\n",
       "      <td>3599906</td>\n",
       "    </tr>\n",
       "    <tr>\n",
       "      <th>7415238</th>\n",
       "      <td>-7.060547</td>\n",
       "      <td>6.889648</td>\n",
       "      <td>0.800781</td>\n",
       "      <td>-54187500.0</td>\n",
       "      <td>750000.0</td>\n",
       "      <td>-3875000.0</td>\n",
       "      <td>3599906</td>\n",
       "    </tr>\n",
       "  </tbody>\n",
       "</table>\n",
       "<p>7415239 rows × 7 columns</p>\n",
       "</div>"
      ],
      "text/plain": [
       "         accelerometer_x  accelerometer_y  accelerometer_z  magnetometer_x  \\\n",
       "0              -7.045898         6.962891         0.732422     -52250000.0   \n",
       "1              -7.045898         6.962891         0.732422     -54125000.0   \n",
       "2              -7.065430         6.982422         0.776367     -54125000.0   \n",
       "3              -7.104492         6.962891         0.776367     -54125000.0   \n",
       "4              -7.104492         6.962891         0.776367     -54125000.0   \n",
       "...                  ...              ...              ...             ...   \n",
       "7415234        -7.109375         6.948242         0.815430     -53437500.0   \n",
       "7415235        -7.109375         6.948242         0.815430     -53437500.0   \n",
       "7415236        -7.104492         6.943359         0.791016     -53437500.0   \n",
       "7415237        -7.104492         6.943359         0.791016     -54187500.0   \n",
       "7415238        -7.060547         6.889648         0.800781     -54187500.0   \n",
       "\n",
       "         magnetometer_y  magnetometer_z    timer  \n",
       "0             4437500.0      -7750000.0        0  \n",
       "1             -312500.0      -4250000.0        1  \n",
       "2             -312500.0      -4250000.0        2  \n",
       "3             -312500.0      -4250000.0        2  \n",
       "4             -312500.0      -4250000.0        2  \n",
       "...                 ...             ...      ...  \n",
       "7415234       1875000.0      -5875000.0  3599905  \n",
       "7415235       1875000.0      -5875000.0  3599905  \n",
       "7415236       1875000.0      -5875000.0  3599905  \n",
       "7415237        750000.0      -3875000.0  3599906  \n",
       "7415238        750000.0      -3875000.0  3599906  \n",
       "\n",
       "[7415239 rows x 7 columns]"
      ]
     },
     "execution_count": 7,
     "metadata": {},
     "output_type": "execute_result"
    }
   ],
   "source": [
    "dict_no_audio = {}\n",
    "for k in unpickled.keys():\n",
    "    if k != 'audio':\n",
    "        dict_no_audio[k] = unpickled[k]\n",
    "     \n",
    "print(dict_no_audio['accelerometer_x'].size, ' / ', dict_no_audio['magnetometer_x'].size, ' / ', dict_no_audio['timer'].size)\n",
    "############################################\n",
    "# das hier ist ist hoffentlich nur für das 1h example notwendig\n",
    "dict_no_audio['timer'] = np.append(dict_no_audio['timer'], 3599906)\n",
    "print('after append: ', dict_no_audio['accelerometer_x'].size, ' / ', dict_no_audio['magnetometer_x'].size, ' / ', dict_no_audio['timer'].size)\n",
    "############################################\n",
    "\n",
    "df_no_audio = pd.DataFrame(dict_no_audio)\n",
    "df_no_audio"
   ]
  },
  {
   "cell_type": "code",
   "execution_count": 20,
   "metadata": {
    "ExecuteTime": {
     "end_time": "2021-11-22T11:10:13.958559Z",
     "start_time": "2021-11-22T11:10:12.260525Z"
    }
   },
   "outputs": [
    {
     "name": "stdout",
     "output_type": "stream",
     "text": [
      "             audio    timer  accelerometer_x  accelerometer_y  \\\n",
      "0         0.006897        0        -7.045898         6.962891   \n",
      "1         0.006439        0        -7.045898         6.962891   \n",
      "2         0.005402        1        -7.045898         6.962891   \n",
      "3         0.004669        1        -7.045898         6.962891   \n",
      "4         0.003265        2        -7.065430         6.982422   \n",
      "...            ...      ...              ...              ...   \n",
      "16225858  0.013062  3599906        -7.104492         6.943359   \n",
      "16225859  0.013062  3599906        -7.060547         6.889648   \n",
      "16225860  0.007843  3599906        -7.104492         6.943359   \n",
      "16225861  0.007843  3599906        -7.060547         6.889648   \n",
      "16225862  0.006104  3599907              NaN              NaN   \n",
      "\n",
      "          accelerometer_z  magnetometer_x  magnetometer_y  magnetometer_z  \n",
      "0                0.732422     -52250000.0       4437500.0      -7750000.0  \n",
      "1                0.732422     -52250000.0       4437500.0      -7750000.0  \n",
      "2                0.732422     -54125000.0       -312500.0      -4250000.0  \n",
      "3                0.732422     -54125000.0       -312500.0      -4250000.0  \n",
      "4                0.776367     -54125000.0       -312500.0      -4250000.0  \n",
      "...                   ...             ...             ...             ...  \n",
      "16225858         0.791016     -54187500.0        750000.0      -3875000.0  \n",
      "16225859         0.800781     -54187500.0        750000.0      -3875000.0  \n",
      "16225860         0.791016     -54187500.0        750000.0      -3875000.0  \n",
      "16225861         0.800781     -54187500.0        750000.0      -3875000.0  \n",
      "16225862              NaN             NaN             NaN             NaN  \n",
      "\n",
      "[16225863 rows x 8 columns]\n"
     ]
    }
   ],
   "source": [
    "s_df = pd.merge(df_audio, df_no_audio, how='left', on='timer')\n",
    "print(s_df)"
   ]
  },
  {
   "cell_type": "markdown",
   "metadata": {},
   "source": [
    "<h1>Aufteilen in teil Arrays und berechnen der Werte</h1>"
   ]
  },
  {
   "cell_type": "code",
   "execution_count": 16,
   "metadata": {
    "ExecuteTime": {
     "end_time": "2021-11-22T10:54:11.412560Z",
     "start_time": "2021-11-22T10:51:11.716238Z"
    },
    "scrolled": true
   },
   "outputs": [
    {
     "name": "stderr",
     "output_type": "stream",
     "text": [
      "/tmp/user/1019/ipykernel_22557/426909027.py:15: RuntimeWarning: All-NaN slice encountered\n",
      "  smt_dict[variable+'_max'] = np.nanmax(stack_ac_split_arr, axis = 1)\n",
      "/tmp/user/1019/ipykernel_22557/426909027.py:19: RuntimeWarning: All-NaN slice encountered\n",
      "  smt_dict[variable+'_min'] = np.nanmin(stack_ac_split_arr, axis = 1)\n",
      "/tmp/user/1019/ipykernel_22557/426909027.py:32: RuntimeWarning: Mean of empty slice\n",
      "  smt_dict[variable+'_mean'] = np.nanmean(stack_ma_split_arr, axis = 1)\n"
     ]
    },
    {
     "name": "stdout",
     "output_type": "stream",
     "text": [
      "sensor  154533\n",
      "audio  154533\n"
     ]
    }
   ],
   "source": [
    "###################### nach MS ################################################\n",
    "# erstellen eines leeren dictionaries\n",
    "smt_dict = {}\n",
    "\n",
    "for variable in s_df.keys():\n",
    "    if \"accelerometer\" in variable:\n",
    "        # Array wird anhand der Indizes der MS gesplittet, mit NaN values auf die selbe lenge gebracht und gestacked\n",
    "        ac_split_arr = np.split(s_df[variable], range(step, s_df['timer'].size, step))\n",
    "        pad = len(max(ac_split_arr, key=len))\n",
    "        pad_ac_split_arr = np.array([np.append(i, [[np.nan]*(pad-len(i))]) for i in ac_split_arr])\n",
    "        stack_ac_split_arr = np.vstack(pad_ac_split_arr)\n",
    "        \n",
    "        # Zusammenfassen und in dictionary schreiben, NaN values werden ignoriert\n",
    "        # maximum\n",
    "        smt_dict[variable+'_max'] = np.nanmax(stack_ac_split_arr, axis = 1)\n",
    "        # 95% quantile\n",
    "        smt_dict[variable+'_95q'] = np.nanquantile(stack_ac_split_arr, 0.95, axis = 1)\n",
    "        # minimum\n",
    "        smt_dict[variable+'_min'] = np.nanmin(stack_ac_split_arr, axis = 1)\n",
    "        # 5% quantile\n",
    "        smt_dict[variable+'_05q'] = np.nanquantile(stack_ac_split_arr, 0.05, axis = 1)\n",
    "        \n",
    "    elif \"magnetometer\" in variable:\n",
    "        # Array wird anhand der Indizes der MS gesplittet, mit NaN values auf die selbe lenge gebracht und gestacked\n",
    "        ma_split_arr = np.split(s_df[variable], range(step, s_df['timer'].size, step))\n",
    "        pad = len(max(ma_split_arr, key=len))\n",
    "        pad_ma_split_arr = np.array([np.append(i, [[np.nan]*(pad-len(i))]) for i in ma_split_arr])\n",
    "        stack_ma_split_arr = np.vstack(pad_ma_split_arr)\n",
    "        \n",
    "        # Zusammenfassen und in dictionary schreiben, NaN values werden ignoriert\n",
    "        # mean\n",
    "        smt_dict[variable+'_mean'] = np.nanmean(stack_ma_split_arr, axis = 1)\n",
    "        # median\n",
    "        smt_dict[variable+'_med'] = np.nanmedian(stack_ma_split_arr, axis = 1)\n",
    "        \n",
    "    elif \"audio\" in variable:\n",
    "        au_split_arr = np.split(s_df[variable], range(step, s_df['timer'].size, step))\n",
    "        pad = len(max(au_split_arr, key=len))\n",
    "        pad_au_split_arr = np.array([np.append(i, [[np.nan]*(pad-len(i))]) for i in au_split_arr])\n",
    "        stack_au_split_arr = np.vstack(pad_au_split_arr)\n",
    "        \n",
    "        # Zusammenfassen und in DataFrame schreiben, NaN values werden ignoriert\n",
    "        # maximum\n",
    "        smt_dict[variable+'_max'] = np.nanmax(stack_au_split_arr, axis = 1)\n",
    "        # 95% quantile\n",
    "        smt_dict[variable+'_95q'] = np.nanquantile(stack_au_split_arr, 0.95, axis = 1)\n",
    "\n",
    "        \n",
    "print('sensor ', smt_dict['accelerometer_x_max'].size)\n",
    "print('audio ', smt_dict['audio_max'].size)"
   ]
  },
  {
   "cell_type": "code",
   "execution_count": null,
   "metadata": {},
   "outputs": [],
   "source": []
  }
 ],
 "metadata": {
  "kernelspec": {
   "display_name": "Python 3 (ipykernel)",
   "language": "python",
   "name": "python3"
  },
  "language_info": {
   "codemirror_mode": {
    "name": "ipython",
    "version": 3
   },
   "file_extension": ".py",
   "mimetype": "text/x-python",
   "name": "python",
   "nbconvert_exporter": "python",
   "pygments_lexer": "ipython3",
   "version": "3.8.12"
  }
 },
 "nbformat": 4,
 "nbformat_minor": 2
}
